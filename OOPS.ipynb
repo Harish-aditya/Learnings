{
  "nbformat": 4,
  "nbformat_minor": 0,
  "metadata": {
    "colab": {
      "provenance": [],
      "include_colab_link": true
    },
    "kernelspec": {
      "name": "python3",
      "display_name": "Python 3"
    },
    "language_info": {
      "name": "python"
    }
  },
  "cells": [
    {
      "cell_type": "markdown",
      "metadata": {
        "id": "view-in-github",
        "colab_type": "text"
      },
      "source": [
        "<a href=\"https://colab.research.google.com/github/Harish-aditya/Learnings/blob/main/OOPS.ipynb\" target=\"_parent\"><img src=\"https://colab.research.google.com/assets/colab-badge.svg\" alt=\"Open In Colab\"/></a>"
      ]
    },
    {
      "cell_type": "code",
      "execution_count": 22,
      "metadata": {
        "id": "WCX2Dg3SuJCk"
      },
      "outputs": [],
      "source": [
        "# Creating a class\n",
        "class Item:\n",
        "  #class attributes\n",
        "  pay_rate = 0.8 # The pay rate after 20% discount.\n",
        "\n",
        "  def __init__(self, name: str, price: float, quantity = 0):\n",
        "    # Run validations to the recieved arguements\n",
        "    assert price > 0, f\"Price {price} is not greater than zero!\"\n",
        "    assert quantity > 0, f\"Price {quantity} is not greater than zero!\"\n",
        "\n",
        "    # Assign to self object\n",
        "    self.name = name\n",
        "    self.price = price\n",
        "    self.quantity = quantity\n",
        "  def calculate_total_price(self):\n",
        "    return self.price * self.quantity\n",
        "  def apply_discount(self):\n",
        "    self.price = self.price * Item.pay_rate\n",
        "\n"
      ]
    },
    {
      "cell_type": "code",
      "source": [
        "item1 = Item(\"Phone\", 1,5)\n",
        "# item1.name = 'Phone'\n",
        "# item1.price = 100\n",
        "# item1.quantity = 5\n",
        "print(item1.calculate_total_price())\n",
        "\n",
        "item2 = Item(\"Laptop\", 120, 6)\n",
        "# item2.name = 'Phone'\n",
        "# item2.price = 120\n",
        "# item2.quantity = 6\n",
        "print(item2.calculate_total_price())"
      ],
      "metadata": {
        "id": "F8TzG9YOrTjO",
        "outputId": "f7fa6dd7-758f-4ce6-afc6-35a9be64eef4",
        "colab": {
          "base_uri": "https://localhost:8080/"
        }
      },
      "execution_count": 24,
      "outputs": [
        {
          "output_type": "stream",
          "name": "stdout",
          "text": [
            "5\n",
            "720\n"
          ]
        }
      ]
    },
    {
      "cell_type": "code",
      "source": [
        "print(type(item1))\n",
        "print(item1.name)\n",
        "print(item1.price)\n",
        "print(item1.quantity)"
      ],
      "metadata": {
        "colab": {
          "base_uri": "https://localhost:8080/"
        },
        "id": "jkGmrseQtuEF",
        "outputId": "0c10d5ac-4581-45c1-a55d-589207834b51"
      },
      "execution_count": 16,
      "outputs": [
        {
          "output_type": "stream",
          "name": "stdout",
          "text": [
            "<class '__main__.Item'>\n",
            "Phone\n",
            "1\n",
            "5\n"
          ]
        }
      ]
    },
    {
      "cell_type": "code",
      "source": [
        "print(Item.pay_rate) #global attribute"
      ],
      "metadata": {
        "colab": {
          "base_uri": "https://localhost:8080/"
        },
        "id": "enN3FJv-xV6l",
        "outputId": "3f4fe761-0cf4-495b-abfb-8286ef5a784b"
      },
      "execution_count": 17,
      "outputs": [
        {
          "output_type": "stream",
          "name": "stdout",
          "text": [
            "0.8\n"
          ]
        }
      ]
    },
    {
      "cell_type": "code",
      "source": [
        "print(item1.pay_rate) # accessing global with instance level as well"
      ],
      "metadata": {
        "id": "V_ivSjrQKHNo",
        "colab": {
          "base_uri": "https://localhost:8080/"
        },
        "outputId": "babb3161-dd6b-4034-f628-68ec933004d6"
      },
      "execution_count": 18,
      "outputs": [
        {
          "output_type": "stream",
          "name": "stdout",
          "text": [
            "0.8\n"
          ]
        }
      ]
    },
    {
      "cell_type": "code",
      "source": [
        "print(Item.__dict__) # All The attributes for class level"
      ],
      "metadata": {
        "id": "mEtkBzgVtYk8",
        "outputId": "d09b6a3d-f721-40b7-d63b-d55311e76513",
        "colab": {
          "base_uri": "https://localhost:8080/"
        }
      },
      "execution_count": 20,
      "outputs": [
        {
          "output_type": "stream",
          "name": "stdout",
          "text": [
            "{'__module__': '__main__', 'pay_rate': 0.8, '__init__': <function Item.__init__ at 0x7f06bba0f550>, 'calculate_total_price': <function Item.calculate_total_price at 0x7f06bba0f700>, '__dict__': <attribute '__dict__' of 'Item' objects>, '__weakref__': <attribute '__weakref__' of 'Item' objects>, '__doc__': None}\n"
          ]
        }
      ]
    },
    {
      "cell_type": "code",
      "source": [
        "print(item1.__dict__) # All The attributes for instance level"
      ],
      "metadata": {
        "id": "PPqzSs6RuAm3",
        "outputId": "21b8697a-8e4d-4db7-f514-fcdf052ecb76",
        "colab": {
          "base_uri": "https://localhost:8080/"
        }
      },
      "execution_count": 21,
      "outputs": [
        {
          "output_type": "stream",
          "name": "stdout",
          "text": [
            "{'name': 'Phone', 'price': 1, 'quantity': 5}\n"
          ]
        }
      ]
    },
    {
      "cell_type": "code",
      "source": [
        "item1.apply_discount() # using class attribute as it is to calculate.\n",
        "print(item1.price)"
      ],
      "metadata": {
        "id": "np1wvkWeuKd6",
        "outputId": "cb256204-6483-4e35-be54-5a0477e149d3",
        "colab": {
          "base_uri": "https://localhost:8080/"
        }
      },
      "execution_count": 25,
      "outputs": [
        {
          "output_type": "stream",
          "name": "stdout",
          "text": [
            "0.8\n"
          ]
        }
      ]
    },
    {
      "cell_type": "code",
      "source": [
        "item2.pay_rate = 0.7 # defining custom class attribute to calculate.\n",
        "item2.apply_discount()\n",
        "print(item2.price)"
      ],
      "metadata": {
        "id": "AenBDegWvbK-",
        "outputId": "025a5777-526b-4b39-a13b-5849c810ffc9",
        "colab": {
          "base_uri": "https://localhost:8080/"
        }
      },
      "execution_count": 26,
      "outputs": [
        {
          "output_type": "stream",
          "name": "stdout",
          "text": [
            "96.0\n"
          ]
        }
      ]
    },
    {
      "cell_type": "code",
      "source": [],
      "metadata": {
        "id": "NJI9EPgwwHq0"
      },
      "execution_count": null,
      "outputs": []
    }
  ]
}