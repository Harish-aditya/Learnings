{
  "nbformat": 4,
  "nbformat_minor": 0,
  "metadata": {
    "colab": {
      "provenance": [],
      "include_colab_link": true
    },
    "kernelspec": {
      "name": "python3",
      "display_name": "Python 3"
    },
    "language_info": {
      "name": "python"
    }
  },
  "cells": [
    {
      "cell_type": "markdown",
      "metadata": {
        "id": "view-in-github",
        "colab_type": "text"
      },
      "source": [
        "<a href=\"https://colab.research.google.com/github/Harish-aditya/Learnings/blob/main/OOPS.ipynb\" target=\"_parent\"><img src=\"https://colab.research.google.com/assets/colab-badge.svg\" alt=\"Open In Colab\"/></a>"
      ]
    },
    {
      "cell_type": "code",
      "execution_count": 22,
      "metadata": {
        "id": "WCX2Dg3SuJCk"
      },
      "outputs": [],
      "source": [
        "import csv\n",
        "# Creating a class\n",
        "class Item:\n",
        "  #class attributes\n",
        "  pay_rate = 0.8 # The pay rate after 20% discount.\n",
        "  all = []\n",
        "  def __init__(self, name: str, price: float, quantity = 0):\n",
        "    # Run validations to the recieved arguements\n",
        "    assert price > 0, f\"Price {price} is not greater than zero!\"\n",
        "    assert quantity > 0, f\"Price {quantity} is not greater than zero!\"\n",
        "\n",
        "    # Assign to self object\n",
        "    self.name = name\n",
        "    self.price = price\n",
        "    self.quantity = quantity\n",
        "\n",
        "    # Actions to execute\n",
        "    Item.all.append(self)\n",
        "\n",
        "  def calculate_total_price(self):\n",
        "    return self.price * self.quantity\n",
        "  def apply_discount(self):\n",
        "    self.price = self.price * self.pay_rate\n",
        "  @classmethod\n",
        "  def instantiate_from_csv(classmethod):\n",
        "    with open('/content/New Text Document.csv','r') as f:\n",
        "      reader = csv.DictReader(f)\n",
        "      items = list(reader)\n",
        "    for item in items:\n",
        "      Item(\n",
        "          name = item.get('name'),\n",
        "          price = (item.get('price')),\n",
        "          quantity = int(item.get('quantity'))\n",
        "\n",
        "      )\n",
        "\n",
        "\n",
        "  def __repr__(self) -> str:\n",
        "    return f\"Item('{self.name}',{self.quantity},{self.price})\"\n"
      ]
    },
    {
      "cell_type": "code",
      "source": [
        "Item.instantiate_from_csv()"
      ],
      "metadata": {
        "id": "hEHh10v7_WhF",
        "outputId": "10221572-15b7-41fd-d995-9e4623182918",
        "colab": {
          "base_uri": "https://localhost:8080/",
          "height": 304
        }
      },
      "execution_count": 23,
      "outputs": [
        {
          "output_type": "error",
          "ename": "TypeError",
          "evalue": "ignored",
          "traceback": [
            "\u001b[0;31m---------------------------------------------------------------------------\u001b[0m",
            "\u001b[0;31mTypeError\u001b[0m                                 Traceback (most recent call last)",
            "\u001b[0;32m<ipython-input-23-5dc701969d04>\u001b[0m in \u001b[0;36m<module>\u001b[0;34m\u001b[0m\n\u001b[0;32m----> 1\u001b[0;31m \u001b[0mItem\u001b[0m\u001b[0;34m.\u001b[0m\u001b[0minstantiate_from_csv\u001b[0m\u001b[0;34m(\u001b[0m\u001b[0;34m)\u001b[0m\u001b[0;34m\u001b[0m\u001b[0;34m\u001b[0m\u001b[0m\n\u001b[0m",
            "\u001b[0;32m<ipython-input-22-13b7b6d4256a>\u001b[0m in \u001b[0;36minstantiate_from_csv\u001b[0;34m(classmethod)\u001b[0m\n\u001b[1;32m     31\u001b[0m           \u001b[0mname\u001b[0m \u001b[0;34m=\u001b[0m \u001b[0mitem\u001b[0m\u001b[0;34m.\u001b[0m\u001b[0mget\u001b[0m\u001b[0;34m(\u001b[0m\u001b[0;34m'name'\u001b[0m\u001b[0;34m)\u001b[0m\u001b[0;34m,\u001b[0m\u001b[0;34m\u001b[0m\u001b[0;34m\u001b[0m\u001b[0m\n\u001b[1;32m     32\u001b[0m           \u001b[0mprice\u001b[0m \u001b[0;34m=\u001b[0m \u001b[0;34m(\u001b[0m\u001b[0mitem\u001b[0m\u001b[0;34m.\u001b[0m\u001b[0mget\u001b[0m\u001b[0;34m(\u001b[0m\u001b[0;34m'price'\u001b[0m\u001b[0;34m)\u001b[0m\u001b[0;34m)\u001b[0m\u001b[0;34m,\u001b[0m\u001b[0;34m\u001b[0m\u001b[0;34m\u001b[0m\u001b[0m\n\u001b[0;32m---> 33\u001b[0;31m           \u001b[0mquantity\u001b[0m \u001b[0;34m=\u001b[0m \u001b[0mint\u001b[0m\u001b[0;34m(\u001b[0m\u001b[0mitem\u001b[0m\u001b[0;34m.\u001b[0m\u001b[0mget\u001b[0m\u001b[0;34m(\u001b[0m\u001b[0;34m'quantity'\u001b[0m\u001b[0;34m)\u001b[0m\u001b[0;34m)\u001b[0m\u001b[0;34m\u001b[0m\u001b[0;34m\u001b[0m\u001b[0m\n\u001b[0m\u001b[1;32m     34\u001b[0m \u001b[0;34m\u001b[0m\u001b[0m\n\u001b[1;32m     35\u001b[0m       )\n",
            "\u001b[0;31mTypeError\u001b[0m: int() argument must be a string, a bytes-like object or a number, not 'NoneType'"
          ]
        }
      ]
    },
    {
      "cell_type": "code",
      "source": [
        "item1 = Item(\"Phone\", 1,5)\n",
        "# item1.name = 'Phone'\n",
        "# item1.price = 100\n",
        "# item1.quantity = 5\n",
        "print(item1.calculate_total_price())\n",
        "\n",
        "item2 = Item(\"Laptop\", 120, 6)\n",
        "# item2.name = 'Phone'\n",
        "# item2.price = 120\n",
        "# item2.quantity = 6\n",
        "print(item2.calculate_total_price())"
      ],
      "metadata": {
        "colab": {
          "base_uri": "https://localhost:8080/"
        },
        "id": "F8TzG9YOrTjO",
        "outputId": "e07da0ef-a642-45a7-a51d-b98aff64d208"
      },
      "execution_count": 2,
      "outputs": [
        {
          "output_type": "stream",
          "name": "stdout",
          "text": [
            "5\n",
            "720\n"
          ]
        }
      ]
    },
    {
      "cell_type": "code",
      "source": [
        "print(type(item1))\n",
        "print(item1.name)\n",
        "print(item1.price)\n",
        "print(item1.quantity)"
      ],
      "metadata": {
        "colab": {
          "base_uri": "https://localhost:8080/"
        },
        "id": "jkGmrseQtuEF",
        "outputId": "5abc5ab6-fbf7-4bd0-f08f-4c989546b47f"
      },
      "execution_count": 3,
      "outputs": [
        {
          "output_type": "stream",
          "name": "stdout",
          "text": [
            "<class '__main__.Item'>\n",
            "Phone\n",
            "1\n",
            "5\n"
          ]
        }
      ]
    },
    {
      "cell_type": "code",
      "source": [
        "print(Item.pay_rate) #global attribute"
      ],
      "metadata": {
        "colab": {
          "base_uri": "https://localhost:8080/"
        },
        "id": "enN3FJv-xV6l",
        "outputId": "bdb8eb79-9380-4dc6-b733-af644cba03f1"
      },
      "execution_count": 4,
      "outputs": [
        {
          "output_type": "stream",
          "name": "stdout",
          "text": [
            "0.8\n"
          ]
        }
      ]
    },
    {
      "cell_type": "code",
      "source": [
        "print(item1.pay_rate) # accessing global with instance level as well"
      ],
      "metadata": {
        "id": "V_ivSjrQKHNo",
        "colab": {
          "base_uri": "https://localhost:8080/"
        },
        "outputId": "94ce4542-1fca-4b3e-aa23-2fd4c588b614"
      },
      "execution_count": 5,
      "outputs": [
        {
          "output_type": "stream",
          "name": "stdout",
          "text": [
            "0.8\n"
          ]
        }
      ]
    },
    {
      "cell_type": "code",
      "source": [
        "print(Item.__dict__) # All The attributes for class level"
      ],
      "metadata": {
        "colab": {
          "base_uri": "https://localhost:8080/"
        },
        "id": "mEtkBzgVtYk8",
        "outputId": "e168260d-55d2-4465-b0ac-1c63af741ee2"
      },
      "execution_count": 6,
      "outputs": [
        {
          "output_type": "stream",
          "name": "stdout",
          "text": [
            "{'__module__': '__main__', 'pay_rate': 0.8, 'all': [<__main__.Item object at 0x7f1970c82d60>, <__main__.Item object at 0x7f1970c824c0>], '__init__': <function Item.__init__ at 0x7f1970c830d0>, 'calculate_total_price': <function Item.calculate_total_price at 0x7f1970c83160>, 'apply_discount': <function Item.apply_discount at 0x7f1970c831f0>, '__dict__': <attribute '__dict__' of 'Item' objects>, '__weakref__': <attribute '__weakref__' of 'Item' objects>, '__doc__': None}\n"
          ]
        }
      ]
    },
    {
      "cell_type": "code",
      "source": [
        "print(item1.__dict__) # All The attributes for instance level"
      ],
      "metadata": {
        "colab": {
          "base_uri": "https://localhost:8080/"
        },
        "id": "PPqzSs6RuAm3",
        "outputId": "dabdf093-3b7e-4c32-cdc8-7e0af83f5f37"
      },
      "execution_count": 7,
      "outputs": [
        {
          "output_type": "stream",
          "name": "stdout",
          "text": [
            "{'name': 'Phone', 'price': 1, 'quantity': 5}\n"
          ]
        }
      ]
    },
    {
      "cell_type": "code",
      "source": [
        "item1.apply_discount() # using class attribute as it is to calculate.\n",
        "print(item1.price)"
      ],
      "metadata": {
        "colab": {
          "base_uri": "https://localhost:8080/"
        },
        "id": "np1wvkWeuKd6",
        "outputId": "6081381b-eaf3-497a-ea90-4e26777bd88c"
      },
      "execution_count": 8,
      "outputs": [
        {
          "output_type": "stream",
          "name": "stdout",
          "text": [
            "0.8\n"
          ]
        }
      ]
    },
    {
      "cell_type": "code",
      "source": [
        "item2.pay_rate = 0.7 # defining custom class attribute to calculate.\n",
        "item2.apply_discount()\n",
        "print(item2.price)"
      ],
      "metadata": {
        "colab": {
          "base_uri": "https://localhost:8080/"
        },
        "id": "AenBDegWvbK-",
        "outputId": "9cd4e095-a8a6-45d1-d5a8-52489d46ff0c"
      },
      "execution_count": 9,
      "outputs": [
        {
          "output_type": "stream",
          "name": "stdout",
          "text": [
            "84.0\n"
          ]
        }
      ]
    },
    {
      "cell_type": "code",
      "source": [
        "item1 = Item(\"Phone\", 100, 2)\n",
        "item2 = Item(\"Laptop\", 1000, 6)\n",
        "item3 = Item(\"Cable\", 10, 4)\n",
        "item4 = Item(\"Mouse\", 30, 10)\n"
      ],
      "metadata": {
        "id": "NJI9EPgwwHq0"
      },
      "execution_count": 15,
      "outputs": []
    },
    {
      "cell_type": "code",
      "source": [
        "Item.all"
      ],
      "metadata": {
        "id": "LCxP9wDXxVwF",
        "colab": {
          "base_uri": "https://localhost:8080/"
        },
        "outputId": "c74cc0bd-824e-49cd-ed10-2fb49db6eafb"
      },
      "execution_count": 16,
      "outputs": [
        {
          "output_type": "execute_result",
          "data": {
            "text/plain": [
              "[Item('Phone',2,100),\n",
              " Item('Laptop',6,1000),\n",
              " Item('Cable',4,10),\n",
              " Item('Mouse',10,30)]"
            ]
          },
          "metadata": {},
          "execution_count": 16
        }
      ]
    },
    {
      "cell_type": "code",
      "source": [
        "for i in Item.all:\n",
        "  print(i.name)"
      ],
      "metadata": {
        "colab": {
          "base_uri": "https://localhost:8080/"
        },
        "id": "v-zDE6_k7Ezb",
        "outputId": "a6ae7627-3c28-42a4-a16b-093b206280a6"
      },
      "execution_count": 12,
      "outputs": [
        {
          "output_type": "stream",
          "name": "stdout",
          "text": [
            "Phone\n",
            "Laptop\n",
            "Phone\n",
            "Laptop\n",
            "Cable\n",
            "Mouse\n"
          ]
        }
      ]
    },
    {
      "cell_type": "code",
      "source": [],
      "metadata": {
        "id": "qKOEZpSc7LiS"
      },
      "execution_count": null,
      "outputs": []
    }
  ]
}