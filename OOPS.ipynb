{
  "nbformat": 4,
  "nbformat_minor": 0,
  "metadata": {
    "colab": {
      "provenance": [],
      "include_colab_link": true
    },
    "kernelspec": {
      "name": "python3",
      "display_name": "Python 3"
    },
    "language_info": {
      "name": "python"
    }
  },
  "cells": [
    {
      "cell_type": "markdown",
      "metadata": {
        "id": "view-in-github",
        "colab_type": "text"
      },
      "source": [
        "<a href=\"https://colab.research.google.com/github/Harish-aditya/Learnings/blob/main/OOPS.ipynb\" target=\"_parent\"><img src=\"https://colab.research.google.com/assets/colab-badge.svg\" alt=\"Open In Colab\"/></a>"
      ]
    },
    {
      "cell_type": "code",
      "execution_count": 27,
      "metadata": {
        "id": "WCX2Dg3SuJCk"
      },
      "outputs": [],
      "source": [
        "# Creating a class\n",
        "class Item:\n",
        "  #class attributes\n",
        "  pay_rate = 0.8 # The pay rate after 20% discount.\n",
        "\n",
        "  def __init__(self, name: str, price: float, quantity = 0):\n",
        "    # Run validations to the recieved arguements\n",
        "    assert price > 0, f\"Price {price} is not greater than zero!\"\n",
        "    assert quantity > 0, f\"Price {quantity} is not greater than zero!\"\n",
        "\n",
        "    # Assign to self object\n",
        "    self.name = name\n",
        "    self.price = price\n",
        "    self.quantity = quantity\n",
        "  def calculate_total_price(self):\n",
        "    return self.price * self.quantity\n",
        "  def apply_discount(self):\n",
        "    self.price = self.price * self.pay_rate\n",
        "\n"
      ]
    },
    {
      "cell_type": "code",
      "source": [
        "item1 = Item(\"Phone\", 1,5)\n",
        "# item1.name = 'Phone'\n",
        "# item1.price = 100\n",
        "# item1.quantity = 5\n",
        "print(item1.calculate_total_price())\n",
        "\n",
        "item2 = Item(\"Laptop\", 120, 6)\n",
        "# item2.name = 'Phone'\n",
        "# item2.price = 120\n",
        "# item2.quantity = 6\n",
        "print(item2.calculate_total_price())"
      ],
      "metadata": {
        "colab": {
          "base_uri": "https://localhost:8080/"
        },
        "id": "F8TzG9YOrTjO",
        "outputId": "eb0e9a0e-e011-4d84-fbfb-c17ab0c8d131"
      },
      "execution_count": 28,
      "outputs": [
        {
          "output_type": "stream",
          "name": "stdout",
          "text": [
            "5\n",
            "720\n"
          ]
        }
      ]
    },
    {
      "cell_type": "code",
      "source": [
        "print(type(item1))\n",
        "print(item1.name)\n",
        "print(item1.price)\n",
        "print(item1.quantity)"
      ],
      "metadata": {
        "colab": {
          "base_uri": "https://localhost:8080/"
        },
        "id": "jkGmrseQtuEF",
        "outputId": "dc380dcc-a6a0-40f9-8c46-7db4a9a1f9d9"
      },
      "execution_count": 29,
      "outputs": [
        {
          "output_type": "stream",
          "name": "stdout",
          "text": [
            "<class '__main__.Item'>\n",
            "Phone\n",
            "1\n",
            "5\n"
          ]
        }
      ]
    },
    {
      "cell_type": "code",
      "source": [
        "print(Item.pay_rate) #global attribute"
      ],
      "metadata": {
        "colab": {
          "base_uri": "https://localhost:8080/"
        },
        "id": "enN3FJv-xV6l",
        "outputId": "fbb5d0aa-f39b-46e8-8979-3f91c2c1e29b"
      },
      "execution_count": 30,
      "outputs": [
        {
          "output_type": "stream",
          "name": "stdout",
          "text": [
            "0.8\n"
          ]
        }
      ]
    },
    {
      "cell_type": "code",
      "source": [
        "print(item1.pay_rate) # accessing global with instance level as well"
      ],
      "metadata": {
        "id": "V_ivSjrQKHNo",
        "colab": {
          "base_uri": "https://localhost:8080/"
        },
        "outputId": "3cf8e582-3db1-4043-fc00-03f595654ebc"
      },
      "execution_count": 31,
      "outputs": [
        {
          "output_type": "stream",
          "name": "stdout",
          "text": [
            "0.8\n"
          ]
        }
      ]
    },
    {
      "cell_type": "code",
      "source": [
        "print(Item.__dict__) # All The attributes for class level"
      ],
      "metadata": {
        "colab": {
          "base_uri": "https://localhost:8080/"
        },
        "id": "mEtkBzgVtYk8",
        "outputId": "ef4b9c24-6053-4340-8f1d-a50749ea40df"
      },
      "execution_count": 32,
      "outputs": [
        {
          "output_type": "stream",
          "name": "stdout",
          "text": [
            "{'__module__': '__main__', 'pay_rate': 0.8, '__init__': <function Item.__init__ at 0x7f06bba01790>, 'calculate_total_price': <function Item.calculate_total_price at 0x7f06bba015e0>, 'apply_discount': <function Item.apply_discount at 0x7f06bba01d30>, '__dict__': <attribute '__dict__' of 'Item' objects>, '__weakref__': <attribute '__weakref__' of 'Item' objects>, '__doc__': None}\n"
          ]
        }
      ]
    },
    {
      "cell_type": "code",
      "source": [
        "print(item1.__dict__) # All The attributes for instance level"
      ],
      "metadata": {
        "colab": {
          "base_uri": "https://localhost:8080/"
        },
        "id": "PPqzSs6RuAm3",
        "outputId": "e9da58cf-36ac-442b-c4bd-943c0b6340a3"
      },
      "execution_count": 33,
      "outputs": [
        {
          "output_type": "stream",
          "name": "stdout",
          "text": [
            "{'name': 'Phone', 'price': 1, 'quantity': 5}\n"
          ]
        }
      ]
    },
    {
      "cell_type": "code",
      "source": [
        "item1.apply_discount() # using class attribute as it is to calculate.\n",
        "print(item1.price)"
      ],
      "metadata": {
        "colab": {
          "base_uri": "https://localhost:8080/"
        },
        "id": "np1wvkWeuKd6",
        "outputId": "621093a8-c535-404c-d900-705fa29b4602"
      },
      "execution_count": 34,
      "outputs": [
        {
          "output_type": "stream",
          "name": "stdout",
          "text": [
            "0.8\n"
          ]
        }
      ]
    },
    {
      "cell_type": "code",
      "source": [
        "item2.pay_rate = 0.7 # defining custom class attribute to calculate.\n",
        "item2.apply_discount()\n",
        "print(item2.price)"
      ],
      "metadata": {
        "colab": {
          "base_uri": "https://localhost:8080/"
        },
        "id": "AenBDegWvbK-",
        "outputId": "016c55ff-7c96-4365-db5c-dedb6382167f"
      },
      "execution_count": 35,
      "outputs": [
        {
          "output_type": "stream",
          "name": "stdout",
          "text": [
            "84.0\n"
          ]
        }
      ]
    },
    {
      "cell_type": "code",
      "source": [
        "item1 = Item(\"Phone\", 100, 2)\n",
        "item2 = Item(\"Laptop\", 1000, 6)\n",
        "item3 = Item(\"Cable\", 10, 4)\n",
        "item4 = Item(\"Mouse\", 30, 10)\n"
      ],
      "metadata": {
        "id": "NJI9EPgwwHq0"
      },
      "execution_count": 36,
      "outputs": []
    },
    {
      "cell_type": "code",
      "source": [],
      "metadata": {
        "id": "LCxP9wDXxVwF"
      },
      "execution_count": null,
      "outputs": []
    }
  ]
}