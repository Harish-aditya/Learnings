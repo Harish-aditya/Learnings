{
  "nbformat": 4,
  "nbformat_minor": 0,
  "metadata": {
    "colab": {
      "provenance": [],
      "authorship_tag": "ABX9TyN8y58ROgz0ciFsfUYWaI0t",
      "include_colab_link": true
    },
    "kernelspec": {
      "name": "python3",
      "display_name": "Python 3"
    },
    "language_info": {
      "name": "python"
    }
  },
  "cells": [
    {
      "cell_type": "markdown",
      "metadata": {
        "id": "view-in-github",
        "colab_type": "text"
      },
      "source": [
        "<a href=\"https://colab.research.google.com/github/Harish-aditya/Learnings/blob/main/OOPS.ipynb\" target=\"_parent\"><img src=\"https://colab.research.google.com/assets/colab-badge.svg\" alt=\"Open In Colab\"/></a>"
      ]
    },
    {
      "cell_type": "code",
      "execution_count": 12,
      "metadata": {
        "id": "WCX2Dg3SuJCk",
        "colab": {
          "base_uri": "https://localhost:8080/"
        },
        "outputId": "3e2b9ad6-760d-471f-d5f2-30de5a1ece09"
      },
      "outputs": [
        {
          "output_type": "stream",
          "name": "stdout",
          "text": [
            "Phone\n",
            "500\n",
            "1000\n",
            "Phone\n",
            "720\n",
            "1440\n"
          ]
        }
      ],
      "source": [
        "# Creating a class\n",
        "class Item:\n",
        "  def calculate_total_price(self,x,y):\n",
        "    print(self.name)\n",
        "    print(self.price * self.quantity)\n",
        "    return x*y*2\n",
        "item1 = Item()\n",
        "item1.name = 'Phone'\n",
        "item1.price = 100\n",
        "item1.quantity = 5\n",
        "print(item1.calculate_total_price(item1.price,item1.quantity))\n",
        "\n",
        "item2 = Item()\n",
        "item2.name = 'Phone'\n",
        "item2.price = 120\n",
        "item2.quantity = 6\n",
        "print(item2.calculate_total_price(item2.price,item2.quantity))"
      ]
    },
    {
      "cell_type": "code",
      "source": [
        " print(type(item1))\n",
        "print(type(item1.name))\n",
        "print(type(item1.price))\n",
        "print(type(item1.quantity))"
      ],
      "metadata": {
        "colab": {
          "base_uri": "https://localhost:8080/"
        },
        "id": "jkGmrseQtuEF",
        "outputId": "4ef9ce94-eb9f-48a6-9f99-1331143ddfdd"
      },
      "execution_count": 2,
      "outputs": [
        {
          "output_type": "stream",
          "name": "stdout",
          "text": [
            "<class '__main__.Item'>\n",
            "<class 'str'>\n",
            "<class 'int'>\n",
            "<class 'int'>\n"
          ]
        }
      ]
    },
    {
      "cell_type": "code",
      "source": [
        "random_str = \"alfkdjlaskj\"\n",
        "print(random_str.upper())"
      ],
      "metadata": {
        "colab": {
          "base_uri": "https://localhost:8080/"
        },
        "id": "enN3FJv-xV6l",
        "outputId": "02ea33e4-8929-4888-c833-1f671f1b73e4"
      },
      "execution_count": 3,
      "outputs": [
        {
          "output_type": "stream",
          "name": "stdout",
          "text": [
            "ALFKDJLASKJ\n"
          ]
        }
      ]
    },
    {
      "cell_type": "code",
      "source": [],
      "metadata": {
        "id": "V_ivSjrQKHNo"
      },
      "execution_count": null,
      "outputs": []
    }
  ]
}