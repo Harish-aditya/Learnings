{
  "nbformat": 4,
  "nbformat_minor": 0,
  "metadata": {
    "colab": {
      "provenance": [],
      "authorship_tag": "ABX9TyPom9KUzp2TBJYE1u12fGdG",
      "include_colab_link": true
    },
    "kernelspec": {
      "name": "python3",
      "display_name": "Python 3"
    },
    "language_info": {
      "name": "python"
    }
  },
  "cells": [
    {
      "cell_type": "markdown",
      "metadata": {
        "id": "view-in-github",
        "colab_type": "text"
      },
      "source": [
        "<a href=\"https://colab.research.google.com/github/Harish-aditya/Learnings/blob/main/OOPS.ipynb\" target=\"_parent\"><img src=\"https://colab.research.google.com/assets/colab-badge.svg\" alt=\"Open In Colab\"/></a>"
      ]
    },
    {
      "cell_type": "code",
      "execution_count": null,
      "metadata": {
        "id": "WCX2Dg3SuJCk",
        "colab": {
          "base_uri": "https://localhost:8080/"
        },
        "outputId": "4982b339-8629-4157-ce62-8e4341b65a4b"
      },
      "outputs": [
        {
          "output_type": "stream",
          "name": "stdout",
          "text": [
            "I Created Phone with price 100 and quantity 5\n",
            "I Created Laptop with price 120 and quantity 6\n"
          ]
        }
      ],
      "source": [
        "# Creating a class\n",
        "class Item:\n",
        "  def __init__(self, name, price, quantity):\n",
        "    print(f\"I Created {name} with price {price} and quantity {quantity}\")\n",
        "    self.name = name\n",
        "    self.price = price\n",
        "    self.quantity = quantity\n",
        "  def calculate_total_price(self,x,y):\n",
        "    print(self.name)\n",
        "    print(self.price * self.quantity)\n",
        "    return x*y*2\n",
        "item1 = Item(\"Phone\", 100,5)\n",
        "# item1.name = 'Phone'\n",
        "# item1.price = 100\n",
        "# item1.quantity = 5\n",
        "# print(item1.calculate_total_price(item1.price,item1.quantity))\n",
        "\n",
        "item2 = Item(\"Laptop\", 120, 6)\n",
        "# item2.name = 'Phone'\n",
        "# item2.price = 120\n",
        "# item2.quantity = 6\n",
        "# print(item2.calculate_total_price(item2.price,item2.quantity))"
      ]
    },
    {
      "cell_type": "code",
      "source": [
        "print(type(item1))\n",
        "print(item1.name)\n",
        "print(item1.price)\n",
        "print(item1.quantity)"
      ],
      "metadata": {
        "colab": {
          "base_uri": "https://localhost:8080/"
        },
        "id": "jkGmrseQtuEF",
        "outputId": "68d14334-2410-421c-ef23-225002a0a728"
      },
      "execution_count": null,
      "outputs": [
        {
          "output_type": "stream",
          "name": "stdout",
          "text": [
            "<class '__main__.Item'>\n",
            "Phone\n",
            "100\n",
            "5\n"
          ]
        }
      ]
    },
    {
      "cell_type": "code",
      "source": [
        " random_str = \"alfkdjlaskj\"\n",
        "print(random_str.upper())"
      ],
      "metadata": {
        "colab": {
          "base_uri": "https://localhost:8080/"
        },
        "id": "enN3FJv-xV6l",
        "outputId": "02ea33e4-8929-4888-c833-1f671f1b73e4"
      },
      "execution_count": null,
      "outputs": [
        {
          "output_type": "stream",
          "name": "stdout",
          "text": [
            "ALFKDJLASKJ\n"
          ]
        }
      ]
    },
    {
      "cell_type": "markdown",
      "source": [],
      "metadata": {
        "id": "XyC0JIZZhwti"
      }
    },
    {
      "cell_type": "code",
      "source": [
        " "
      ],
      "metadata": {
        "id": "V_ivSjrQKHNo"
      },
      "execution_count": null,
      "outputs": []
    }
  ]
}