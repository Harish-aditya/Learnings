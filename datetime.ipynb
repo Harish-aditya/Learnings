{
  "nbformat": 4,
  "nbformat_minor": 0,
  "metadata": {
    "colab": {
      "provenance": [],
      "authorship_tag": "ABX9TyNDsApkEJyhUzJD1hgv8vcu",
      "include_colab_link": true
    },
    "kernelspec": {
      "name": "python3",
      "display_name": "Python 3"
    },
    "language_info": {
      "name": "python"
    }
  },
  "cells": [
    {
      "cell_type": "markdown",
      "metadata": {
        "id": "view-in-github",
        "colab_type": "text"
      },
      "source": [
        "<a href=\"https://colab.research.google.com/github/Harish-aditya/Learnings/blob/main/datetime.ipynb\" target=\"_parent\"><img src=\"https://colab.research.google.com/assets/colab-badge.svg\" alt=\"Open In Colab\"/></a>"
      ]
    },
    {
      "cell_type": "code",
      "execution_count": 1,
      "metadata": {
        "id": "R7tMjrCu835F"
      },
      "outputs": [],
      "source": [
        "import datetime as dat"
      ]
    },
    {
      "cell_type": "code",
      "source": [
        "d = dat.date(2017, 3,13)# No leading zero for month\n",
        "print(d)"
      ],
      "metadata": {
        "colab": {
          "base_uri": "https://localhost:8080/"
        },
        "id": "SXpoQi0D9est",
        "outputId": "c5796a88-93b1-4ee5-b945-887d719cb2d4"
      },
      "execution_count": 3,
      "outputs": [
        {
          "output_type": "stream",
          "name": "stdout",
          "text": [
            "2017-03-13\n"
          ]
        }
      ]
    },
    {
      "cell_type": "code",
      "source": [
        "tdy = dat.date.today()\n",
        "print(tdy)"
      ],
      "metadata": {
        "colab": {
          "base_uri": "https://localhost:8080/"
        },
        "id": "Go5tJ3Zi9wvQ",
        "outputId": "48cb04ca-df52-461c-e959-ae5bde114d59"
      },
      "execution_count": 4,
      "outputs": [
        {
          "output_type": "stream",
          "name": "stdout",
          "text": [
            "2022-11-24\n"
          ]
        }
      ]
    },
    {
      "cell_type": "code",
      "source": [
        "print(tdy.weekday() # Monday - 0 and Sunday - 6\n",
        "print(tdy.isoweekday()) # Monday - 1 and Sunday - 7"
      ],
      "metadata": {
        "colab": {
          "base_uri": "https://localhost:8080/"
        },
        "id": "QBF53hah-Yuq",
        "outputId": "63fa34d2-464e-4834-e215-94daf335e8ee"
      },
      "execution_count": 5,
      "outputs": [
        {
          "output_type": "stream",
          "name": "stdout",
          "text": [
            "3\n",
            "4\n"
          ]
        }
      ]
    },
    {
      "cell_type": "code",
      "source": [
        "tdelta = dat.timedelta(days = 7) # captures a certain time.\n",
        "print(tdelta+tdy)"
      ],
      "metadata": {
        "colab": {
          "base_uri": "https://localhost:8080/"
        },
        "id": "LpXkA3jW-ptp",
        "outputId": "fc62d568-664c-4bd1-85e0-6d24d89732f7"
      },
      "execution_count": 6,
      "outputs": [
        {
          "output_type": "stream",
          "name": "stdout",
          "text": [
            "2022-12-01\n"
          ]
        }
      ]
    },
    {
      "cell_type": "code",
      "source": [
        "tdelta = dat.timedelta(days = 30) # captures a certain time.\n",
        "print(tdelta+tdy)"
      ],
      "metadata": {
        "colab": {
          "base_uri": "https://localhost:8080/"
        },
        "id": "ZW8HwdMT_QeA",
        "outputId": "ae47e994-be61-4df8-d961-c0d28536f786"
      },
      "execution_count": 7,
      "outputs": [
        {
          "output_type": "stream",
          "name": "stdout",
          "text": [
            "2022-12-24\n"
          ]
        }
      ]
    },
    {
      "cell_type": "code",
      "source": [
        "tdelta = dat.timedelta(days = 7) # captures a certain time.\n",
        "print(tdy-tdelta)# present should be first when time goes back."
      ],
      "metadata": {
        "colab": {
          "base_uri": "https://localhost:8080/"
        },
        "id": "nrDCGFJX_fyw",
        "outputId": "592edf34-3bcc-4079-9b49-4cfe2dc35b36"
      },
      "execution_count": 12,
      "outputs": [
        {
          "output_type": "stream",
          "name": "stdout",
          "text": [
            "2022-11-17\n"
          ]
        }
      ]
    },
    {
      "cell_type": "code",
      "source": [
        "tdelta = dat.timedelta(days = 30) # captures a certain time.\n",
        "print(tdy-tdelta)# present should be first when time goes back."
      ],
      "metadata": {
        "colab": {
          "base_uri": "https://localhost:8080/"
        },
        "id": "fe-WFzvC_lIR",
        "outputId": "6939626a-9ccf-4555-96cd-bd7a63051618"
      },
      "execution_count": 13,
      "outputs": [
        {
          "output_type": "stream",
          "name": "stdout",
          "text": [
            "2022-10-25\n"
          ]
        }
      ]
    },
    {
      "cell_type": "code",
      "source": [
        "bday = dat.date(2022,8,13)\n",
        "tdy\n"
      ],
      "metadata": {
        "id": "WFo-5gzsBQIr"
      },
      "execution_count": 14,
      "outputs": []
    },
    {
      "cell_type": "code",
      "source": [],
      "metadata": {
        "id": "U2sXbTIUBXbM"
      },
      "execution_count": null,
      "outputs": []
    }
  ]
}