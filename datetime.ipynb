{
  "nbformat": 4,
  "nbformat_minor": 0,
  "metadata": {
    "colab": {
      "provenance": [],
      "authorship_tag": "ABX9TyNIqbmqvHme3oyYu4j6jO8g",
      "include_colab_link": true
    },
    "kernelspec": {
      "name": "python3",
      "display_name": "Python 3"
    },
    "language_info": {
      "name": "python"
    }
  },
  "cells": [
    {
      "cell_type": "markdown",
      "metadata": {
        "id": "view-in-github",
        "colab_type": "text"
      },
      "source": [
        "<a href=\"https://colab.research.google.com/github/Harish-aditya/Learnings/blob/main/datetime.ipynb\" target=\"_parent\"><img src=\"https://colab.research.google.com/assets/colab-badge.svg\" alt=\"Open In Colab\"/></a>"
      ]
    },
    {
      "cell_type": "code",
      "execution_count": null,
      "metadata": {
        "id": "R7tMjrCu835F"
      },
      "outputs": [],
      "source": [
        "import datetime as dat"
      ]
    },
    {
      "cell_type": "code",
      "source": [
        "d = dat.date(2017, 3,13)# No leading zero for month\n",
        "print(d)"
      ],
      "metadata": {
        "colab": {
          "base_uri": "https://localhost:8080/"
        },
        "id": "SXpoQi0D9est",
        "outputId": "c5796a88-93b1-4ee5-b945-887d719cb2d4"
      },
      "execution_count": null,
      "outputs": [
        {
          "output_type": "stream",
          "name": "stdout",
          "text": [
            "2017-03-13\n"
          ]
        }
      ]
    },
    {
      "cell_type": "code",
      "source": [
        "tdy = dat.date.today()\n",
        "print(tdy)"
      ],
      "metadata": {
        "colab": {
          "base_uri": "https://localhost:8080/"
        },
        "id": "Go5tJ3Zi9wvQ",
        "outputId": "48cb04ca-df52-461c-e959-ae5bde114d59"
      },
      "execution_count": null,
      "outputs": [
        {
          "output_type": "stream",
          "name": "stdout",
          "text": [
            "2022-11-24\n"
          ]
        }
      ]
    },
    {
      "cell_type": "code",
      "source": [
        "print(tdy.weekday() # Monday - 0 and Sunday - 6\n",
        "print(tdy.isoweekday()) # Monday - 1 and Sunday - 7"
      ],
      "metadata": {
        "colab": {
          "base_uri": "https://localhost:8080/"
        },
        "id": "QBF53hah-Yuq",
        "outputId": "63fa34d2-464e-4834-e215-94daf335e8ee"
      },
      "execution_count": null,
      "outputs": [
        {
          "output_type": "stream",
          "name": "stdout",
          "text": [
            "3\n",
            "4\n"
          ]
        }
      ]
    },
    {
      "cell_type": "code",
      "source": [
        "tdelta = dat.timedelta(days = 7) # captures a certain time.\n",
        "print(tdelta+tdy)"
      ],
      "metadata": {
        "colab": {
          "base_uri": "https://localhost:8080/"
        },
        "id": "LpXkA3jW-ptp",
        "outputId": "fc62d568-664c-4bd1-85e0-6d24d89732f7"
      },
      "execution_count": null,
      "outputs": [
        {
          "output_type": "stream",
          "name": "stdout",
          "text": [
            "2022-12-01\n"
          ]
        }
      ]
    },
    {
      "cell_type": "code",
      "source": [
        "tdelta = dat.timedelta(days = 30) # captures a certain time.\n",
        "print(tdelta+tdy)"
      ],
      "metadata": {
        "colab": {
          "base_uri": "https://localhost:8080/"
        },
        "id": "ZW8HwdMT_QeA",
        "outputId": "ae47e994-be61-4df8-d961-c0d28536f786"
      },
      "execution_count": null,
      "outputs": [
        {
          "output_type": "stream",
          "name": "stdout",
          "text": [
            "2022-12-24\n"
          ]
        }
      ]
    },
    {
      "cell_type": "code",
      "source": [
        "tdelta = dat.timedelta(days = 7) # captures a certain time.\n",
        "print(tdy-tdelta)# present should be first when time goes back."
      ],
      "metadata": {
        "colab": {
          "base_uri": "https://localhost:8080/"
        },
        "id": "nrDCGFJX_fyw",
        "outputId": "592edf34-3bcc-4079-9b49-4cfe2dc35b36"
      },
      "execution_count": null,
      "outputs": [
        {
          "output_type": "stream",
          "name": "stdout",
          "text": [
            "2022-11-17\n"
          ]
        }
      ]
    },
    {
      "cell_type": "code",
      "source": [
        "tdelta = dat.timedelta(days = 30) # captures a certain time.\n",
        "print(tdy-tdelta)# present should be first when time goes back."
      ],
      "metadata": {
        "colab": {
          "base_uri": "https://localhost:8080/"
        },
        "id": "fe-WFzvC_lIR",
        "outputId": "6939626a-9ccf-4555-96cd-bd7a63051618"
      },
      "execution_count": null,
      "outputs": [
        {
          "output_type": "stream",
          "name": "stdout",
          "text": [
            "2022-10-25\n"
          ]
        }
      ]
    },
    {
      "cell_type": "code",
      "source": [
        "bday = dat.date(2023,8,13)\n",
        "Till_bday = bday-tdy\n",
        "print(Till_bday)"
      ],
      "metadata": {
        "id": "WFo-5gzsBQIr",
        "colab": {
          "base_uri": "https://localhost:8080/"
        },
        "outputId": "62ee37cc-6097-4024-c24d-73909c4183aa"
      },
      "execution_count": 16,
      "outputs": [
        {
          "output_type": "stream",
          "name": "stdout",
          "text": [
            "262 days, 0:00:00\n"
          ]
        }
      ]
    },
    {
      "cell_type": "code",
      "source": [
        "print(Till_bday.days)"
      ],
      "metadata": {
        "id": "U2sXbTIUBXbM",
        "colab": {
          "base_uri": "https://localhost:8080/"
        },
        "outputId": "53344ba7-97d7-478b-acdf-191da54d1d4e"
      },
      "execution_count": 18,
      "outputs": [
        {
          "output_type": "stream",
          "name": "stdout",
          "text": [
            "262\n"
          ]
        }
      ]
    },
    {
      "cell_type": "code",
      "source": [
        "print(Till_bday.total_seconds())"
      ],
      "metadata": {
        "colab": {
          "base_uri": "https://localhost:8080/"
        },
        "id": "muprRN1oHgvB",
        "outputId": "4ef4d112-383c-4ff5-b6ec-2e04fc27916e"
      },
      "execution_count": 20,
      "outputs": [
        {
          "output_type": "stream",
          "name": "stdout",
          "text": [
            "22636800.0\n"
          ]
        }
      ]
    },
    {
      "cell_type": "code",
      "source": [
        "print(Till_bday.total_seconds())"
      ],
      "metadata": {
        "colab": {
          "base_uri": "https://localhost:8080/"
        },
        "id": "fbA482PqHpEn",
        "outputId": "00713b2c-6908-4e79-a999-5b86303ddf34"
      },
      "execution_count": 21,
      "outputs": [
        {
          "output_type": "stream",
          "name": "stdout",
          "text": [
            "22636800.0\n"
          ]
        }
      ]
    },
    {
      "cell_type": "code",
      "source": [
        "tme = dat.time(9,34,45,1000) # hours, minutes, seconds, microseconds\n",
        "print(tme)"
      ],
      "metadata": {
        "colab": {
          "base_uri": "https://localhost:8080/"
        },
        "id": "YR8Nd-RnIVag",
        "outputId": "fd5c7b9d-61e6-401d-a68f-15a1484e9c40"
      },
      "execution_count": 23,
      "outputs": [
        {
          "output_type": "stream",
          "name": "stdout",
          "text": [
            "09:34:45.001000\n"
          ]
        }
      ]
    },
    {
      "cell_type": "code",
      "source": [
        "tme = dat.time(9,34,45,111000) # hours, minutes, seconds, microseconds\n",
        "print(tme)"
      ],
      "metadata": {
        "colab": {
          "base_uri": "https://localhost:8080/"
        },
        "id": "iNnzwgKHI3xA",
        "outputId": "b69bc0c2-2173-4627-c8c1-a545a6df75ba"
      },
      "execution_count": 26,
      "outputs": [
        {
          "output_type": "stream",
          "name": "stdout",
          "text": [
            "09:34:45.111000\n"
          ]
        }
      ]
    },
    {
      "cell_type": "code",
      "source": [
        "date = dat.date() # date/month/year/day\n",
        "tme = dat.time() # Hours/minutes/seconds/microseconds\n",
        "dtetime = dat.datetime() # date/month/year/day Hours/minutes/seconds/microseconds"
      ],
      "metadata": {
        "colab": {
          "base_uri": "https://localhost:8080/",
          "height": 200
        },
        "id": "Arfd0veSJE0g",
        "outputId": "b922a13b-86a3-4a18-d735-e9817afa1bda"
      },
      "execution_count": 27,
      "outputs": [
        {
          "output_type": "error",
          "ename": "TypeError",
          "evalue": "ignored",
          "traceback": [
            "\u001b[0;31m---------------------------------------------------------------------------\u001b[0m",
            "\u001b[0;31mTypeError\u001b[0m                                 Traceback (most recent call last)",
            "\u001b[0;32m<ipython-input-27-4df88f775bcf>\u001b[0m in \u001b[0;36m<module>\u001b[0;34m\u001b[0m\n\u001b[0;32m----> 1\u001b[0;31m \u001b[0mdate\u001b[0m \u001b[0;34m=\u001b[0m \u001b[0mdat\u001b[0m\u001b[0;34m.\u001b[0m\u001b[0mdate\u001b[0m\u001b[0;34m(\u001b[0m\u001b[0;34m)\u001b[0m \u001b[0;31m# date/month/year/day\u001b[0m\u001b[0;34m\u001b[0m\u001b[0;34m\u001b[0m\u001b[0m\n\u001b[0m\u001b[1;32m      2\u001b[0m \u001b[0mtme\u001b[0m \u001b[0;34m=\u001b[0m \u001b[0mdat\u001b[0m\u001b[0;34m.\u001b[0m\u001b[0mtime\u001b[0m\u001b[0;34m(\u001b[0m\u001b[0;34m)\u001b[0m \u001b[0;31m# Hours/minutes/seconds/microseconds\u001b[0m\u001b[0;34m\u001b[0m\u001b[0;34m\u001b[0m\u001b[0m\n\u001b[1;32m      3\u001b[0m \u001b[0mdtetime\u001b[0m \u001b[0;34m=\u001b[0m \u001b[0mdat\u001b[0m\u001b[0;34m.\u001b[0m\u001b[0mdatetime\u001b[0m\u001b[0;34m(\u001b[0m\u001b[0;34m)\u001b[0m \u001b[0;31m# date/month/year/day Hours/minutes/seconds/microseconds\u001b[0m\u001b[0;34m\u001b[0m\u001b[0;34m\u001b[0m\u001b[0m\n",
            "\u001b[0;31mTypeError\u001b[0m: function missing required argument 'year' (pos 1)"
          ]
        }
      ]
    },
    {
      "cell_type": "code",
      "source": [
        "dtetime = dat.datetime(2016,7,23,12,59,59,100000) # date/month/year/day Hours/minutes/seconds/microseconds\n",
        "print(dtetime)"
      ],
      "metadata": {
        "colab": {
          "base_uri": "https://localhost:8080/"
        },
        "id": "3OhmZWtnJ9KD",
        "outputId": "3291dc69-5dbf-4575-c6ad-b1ca31d3c858"
      },
      "execution_count": 28,
      "outputs": [
        {
          "output_type": "stream",
          "name": "stdout",
          "text": [
            "2016-07-23 12:59:59.100000\n"
          ]
        }
      ]
    },
    {
      "cell_type": "code",
      "source": [
        "print(dtetime.date())"
      ],
      "metadata": {
        "colab": {
          "base_uri": "https://localhost:8080/"
        },
        "id": "3iJdRDw7KHvx",
        "outputId": "4dcd6b3c-afcf-41e5-bfc6-a86e698d9ffe"
      },
      "execution_count": 30,
      "outputs": [
        {
          "output_type": "stream",
          "name": "stdout",
          "text": [
            "2016-07-23\n"
          ]
        }
      ]
    },
    {
      "cell_type": "code",
      "source": [
        "print(dtetime.time())"
      ],
      "metadata": {
        "colab": {
          "base_uri": "https://localhost:8080/"
        },
        "id": "6TG_9x60KcRR",
        "outputId": "9064bc80-1c73-4a90-a526-b3aa49685638"
      },
      "execution_count": 31,
      "outputs": [
        {
          "output_type": "stream",
          "name": "stdout",
          "text": [
            "12:59:59.100000\n"
          ]
        }
      ]
    },
    {
      "cell_type": "code",
      "source": [
        "print(dtetime.hour)"
      ],
      "metadata": {
        "colab": {
          "base_uri": "https://localhost:8080/"
        },
        "id": "twa7VTyWKgVR",
        "outputId": "d38a4715-9f8c-45de-b24c-5d8dd075fe8e"
      },
      "execution_count": 33,
      "outputs": [
        {
          "output_type": "stream",
          "name": "stdout",
          "text": [
            "12\n"
          ]
        }
      ]
    },
    {
      "cell_type": "code",
      "source": [
        "print(dtetime.day)"
      ],
      "metadata": {
        "colab": {
          "base_uri": "https://localhost:8080/"
        },
        "id": "yGDPaz_QKjkJ",
        "outputId": "9fb7d6b3-8dc6-4ad1-9bcc-52368eed3567"
      },
      "execution_count": 34,
      "outputs": [
        {
          "output_type": "stream",
          "name": "stdout",
          "text": [
            "23\n"
          ]
        }
      ]
    },
    {
      "cell_type": "code",
      "source": [
        "print(dtetime.year)"
      ],
      "metadata": {
        "colab": {
          "base_uri": "https://localhost:8080/"
        },
        "id": "ZQCDRDNwKnuR",
        "outputId": "b538aa83-39f9-4d11-bc28-575d901e2022"
      },
      "execution_count": 35,
      "outputs": [
        {
          "output_type": "stream",
          "name": "stdout",
          "text": [
            "2016\n"
          ]
        }
      ]
    },
    {
      "cell_type": "code",
      "source": [
        "print(dtetime.microsecond)"
      ],
      "metadata": {
        "colab": {
          "base_uri": "https://localhost:8080/"
        },
        "id": "ETKWHmM9KpbY",
        "outputId": "879e1d2d-f461-40f5-f09a-5cba173fe6f1"
      },
      "execution_count": 36,
      "outputs": [
        {
          "output_type": "stream",
          "name": "stdout",
          "text": [
            "100000\n"
          ]
        }
      ]
    },
    {
      "cell_type": "code",
      "source": [],
      "metadata": {
        "id": "a6jjAvI1Ktn4"
      },
      "execution_count": null,
      "outputs": []
    }
  ]
}