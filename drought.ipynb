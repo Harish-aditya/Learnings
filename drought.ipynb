{
  "nbformat": 4,
  "nbformat_minor": 0,
  "metadata": {
    "colab": {
      "provenance": [],
      "authorship_tag": "ABX9TyPHqHPtwcCkxJSy4GemNhuP",
      "include_colab_link": true
    },
    "kernelspec": {
      "name": "python3",
      "display_name": "Python 3"
    },
    "language_info": {
      "name": "python"
    }
  },
  "cells": [
    {
      "cell_type": "markdown",
      "metadata": {
        "id": "view-in-github",
        "colab_type": "text"
      },
      "source": [
        "<a href=\"https://colab.research.google.com/github/Harish-aditya/Learnings/blob/main/drought.ipynb\" target=\"_parent\"><img src=\"https://colab.research.google.com/assets/colab-badge.svg\" alt=\"Open In Colab\"/></a>"
      ]
    },
    {
      "cell_type": "markdown",
      "source": [
        "# Drought Prediction Using satellite images.\n"
      ],
      "metadata": {
        "id": "VZEI5FhuSI_I"
      }
    },
    {
      "cell_type": "markdown",
      "source": [
        "## Collecting images"
      ],
      "metadata": {
        "id": "RbHtZxBLSQQ4"
      }
    },
    {
      "cell_type": "code",
      "source": [
        "!pip install bing-image-downloader"
      ],
      "metadata": {
        "colab": {
          "base_uri": "https://localhost:8080/"
        },
        "id": "56RepMbNWRgN",
        "outputId": "31ecabf7-9e17-4b07-ec86-ab36269f026a"
      },
      "execution_count": 1,
      "outputs": [
        {
          "output_type": "stream",
          "name": "stdout",
          "text": [
            "Looking in indexes: https://pypi.org/simple, https://us-python.pkg.dev/colab-wheels/public/simple/\n",
            "Collecting bing-image-downloader\n",
            "  Downloading bing_image_downloader-1.1.2-py3-none-any.whl (5.9 kB)\n",
            "Installing collected packages: bing-image-downloader\n",
            "Successfully installed bing-image-downloader-1.1.2\n"
          ]
        }
      ]
    },
    {
      "cell_type": "code",
      "source": [
        "import bing_image_downloader"
      ],
      "metadata": {
        "id": "rFY77XMGJwgk"
      },
      "execution_count": 2,
      "outputs": []
    },
    {
      "cell_type": "code",
      "source": [
        "!mkdir images"
      ],
      "metadata": {
        "id": "iCWqPJndWYe1"
      },
      "execution_count": 3,
      "outputs": []
    },
    {
      "cell_type": "code",
      "source": [
        "# from bing_image_downloader import downloader\n",
        "# downloader.download(\"Dry landscape\", limit =30,output_dir = \"images\")"
      ],
      "metadata": {
        "colab": {
          "base_uri": "https://localhost:8080/"
        },
        "id": "9Eub96j9Wxk1",
        "outputId": "65a4280b-5bcb-4c7d-d1cb-a4c2d2ad7aa1"
      },
      "execution_count": 4,
      "outputs": [
        {
          "output_type": "stream",
          "name": "stdout",
          "text": [
            "[%] Downloading Images to /content/images/Dry landscape\n",
            "\n",
            "\n",
            "[!!]Indexing page: 1\n",
            "\n",
            "[%] Indexed 18 Images on Page 1.\n",
            "\n",
            "===============================================\n",
            "\n",
            "[%] Downloading Image #1 from https://4.bp.blogspot.com/-nUCvSDEux7g/VpT0L9EcM6I/AAAAAAAAV_E/MExP4nxa3jo/s1600/IMG_1571.JPG\n",
            "[%] File Downloaded !\n",
            "\n",
            "[%] Downloading Image #2 from http://image.shutterstock.com/z/stock-photo-dry-landscape-115697746.jpg\n",
            "[%] File Downloaded !\n",
            "\n",
            "[%] Downloading Image #3 from https://img00.deviantart.net/e34b/i/2011/136/9/c/green_dry_landscape_by_timafa-d3ghijm.jpg\n",
            "[%] File Downloaded !\n",
            "\n",
            "[%] Downloading Image #4 from http://4.bp.blogspot.com/-nUCvSDEux7g/VpT0L9EcM6I/AAAAAAAAV_E/MExP4nxa3jo/s640/IMG_1571.JPG\n",
            "[%] File Downloaded !\n",
            "\n",
            "[%] Downloading Image #5 from https://pre00.deviantart.net/92b1/th/pre/i/2013/201/9/0/dry_landscape_by_laticis-d6eefmq.jpg\n",
            "[!] Issue getting: https://pre00.deviantart.net/92b1/th/pre/i/2013/201/9/0/dry_landscape_by_laticis-d6eefmq.jpg\n",
            "[!] Error:: HTTP Error 404: Not Found\n",
            "[%] Downloading Image #5 from https://thumbs.dreamstime.com/z/dry-landscape-12917296.jpg\n",
            "[%] File Downloaded !\n",
            "\n",
            "[%] Downloading Image #6 from https://i.ytimg.com/vi/vD14Vx2fmXw/maxresdefault.jpg\n",
            "[%] File Downloaded !\n",
            "\n",
            "[%] Downloading Image #7 from http://www.fubiz.net/wp-content/uploads/2018/03/LaraO2.jpg\n",
            "[%] File Downloaded !\n",
            "\n",
            "[%] Downloading Image #8 from https://www.desicomments.com/wallpapers/wp-content/uploads/2014/12/Desert-2.jpg\n",
            "[%] File Downloaded !\n",
            "\n",
            "[%] Downloading Image #9 from http://www.fubiz.net/wp-content/uploads/2018/03/LaraO5-158x158.jpg\n",
            "[%] File Downloaded !\n",
            "\n",
            "[%] Downloading Image #10 from http://www.fubiz.net/wp-content/uploads/2018/03/LaraO2-158x158.jpg\n",
            "[%] File Downloaded !\n",
            "\n",
            "[%] Downloading Image #11 from http://www.sanantoniolandscapingservices.com/wp-content/uploads/2018/01/tree-lighting-uplights-1.jpg\n",
            "[%] File Downloaded !\n",
            "\n",
            "[%] Downloading Image #12 from http://www.wallpapers13.com/wp-content/uploads/2016/02/Mountain-River-transparent-water-rock-trees-1920x1440.jpg\n",
            "[%] File Downloaded !\n",
            "\n",
            "[%] Downloading Image #13 from https://i.pinimg.com/736x/e8/cd/eb/e8cdeb57085d17f8b62bab9c3f49c3bd.jpg\n",
            "[%] File Downloaded !\n",
            "\n",
            "[%] Downloading Image #14 from http://www.wallpapers13.com/wp-content/uploads/2018/05/Finland-nature-landscape-Winter-Snow-Morning-Sunrise-Forest-Lake-reflection-transparent-water-stones-HD-Wallpapers-2560x1440-1440x900.jpg\n",
            "[%] File Downloaded !\n",
            "\n",
            "[%] Downloading Image #15 from https://i.pinimg.com/736x/c2/ac/35/c2ac3510a3f33c230fcf9c09f52bbcf2.jpg\n",
            "[%] File Downloaded !\n",
            "\n",
            "[%] Downloading Image #16 from http://www.wallpapers13.com/wp-content/uploads/2018/09/Cannon-Beach-and-the-famous-Haystack-Rock-Sunrise-to-Ecola-State-Park-coast-of-Oregon-USA-landscape-Photography-Desktop-HD-Wallpaper-3840x2400-1920x1440.jpg\n",
            "[%] File Downloaded !\n",
            "\n",
            "[%] Downloading Image #17 from https://www.hdwallpapers.in/download/beautiful_ocean_sea_horizon_clouds_white_yellow_sky_hd_ocean-1920x1080.jpg\n",
            "[%] File Downloaded !\n",
            "\n",
            "\n",
            "\n",
            "[!!]Indexing page: 2\n",
            "\n",
            "[%] Indexed 18 Images on Page 2.\n",
            "\n",
            "===============================================\n",
            "\n",
            "\n",
            "\n",
            "[!!]Indexing page: 3\n",
            "\n",
            "[%] Indexed 17 Images on Page 3.\n",
            "\n",
            "===============================================\n",
            "\n",
            "\n",
            "\n",
            "[!!]Indexing page: 4\n",
            "\n",
            "[%] Indexed 30 Images on Page 4.\n",
            "\n",
            "===============================================\n",
            "\n",
            "[%] Downloading Image #18 from https://cdn1.epicgames.com/ue/item/DryLandscape_Screenshot_05-1920x1080-4f3e4751f29b6bf646378a9e48857e1a.png\n",
            "[%] File Downloaded !\n",
            "\n",
            "[%] Downloading Image #19 from https://ak.picdn.net/shutterstock/videos/16852108/thumb/1.jpg\n",
            "[%] File Downloaded !\n",
            "\n",
            "[%] Downloading Image #20 from https://www.wallpapers13.com/wp-content/uploads/2016/05/Serengeti-park-Tanzania-savannah-two-lonely-trees-dry-grass-Desktop-Wallpaper-HD.jpg\n",
            "[%] File Downloaded !\n",
            "\n",
            "[%] Downloading Image #21 from https://i.pinimg.com/736x/ad/a7/44/ada744a7f6df9702e7e3f4967f4244e5.jpg\n",
            "[%] File Downloaded !\n",
            "\n",
            "[%] Downloading Image #22 from https://luxurylandscape.com/wp-content/uploads/2022/10/signs-my-lawn-is-too-dry.jpg\n",
            "[%] File Downloaded !\n",
            "\n",
            "[%] Downloading Image #23 from https://www.pnsconstruction.info/wp-content/uploads/2021/06/cropped-0dc5f358-ed99-4e9c-ada6-7eb9a81b16ad-1536x320.jpg\n",
            "[!] Issue getting: https://www.pnsconstruction.info/wp-content/uploads/2021/06/cropped-0dc5f358-ed99-4e9c-ada6-7eb9a81b16ad-1536x320.jpg\n",
            "[!] Error:: <urlopen error [SSL: CERTIFICATE_VERIFY_FAILED] certificate verify failed: certificate has expired (_ssl.c:1091)>\n",
            "[%] Downloading Image #23 from https://www.pnsconstruction.info/wp-content/uploads/2022/11/iWl8tqA7Vj4-480x300.jpg\n",
            "[!] Issue getting: https://www.pnsconstruction.info/wp-content/uploads/2022/11/iWl8tqA7Vj4-480x300.jpg\n",
            "[!] Error:: <urlopen error [SSL: CERTIFICATE_VERIFY_FAILED] certificate verify failed: certificate has expired (_ssl.c:1091)>\n",
            "[%] Downloading Image #23 from https://thumbs.dreamstime.com/x/autumn-lake-landscape-forest-dry-reeds-near-shore-pan-camera-movement-261303801.jpg\n",
            "[%] File Downloaded !\n",
            "\n",
            "[%] Downloading Image #24 from https://c8.alamy.com/comp/DXT814/raw-dry-utah-desert-landscape-mexican-hat-place-utah-usa-nature-photo-DXT814.jpg\n",
            "[%] File Downloaded !\n",
            "\n",
            "[%] Downloading Image #25 from https://img.freepik.com/premium-vector/vertical-endless-dry-desert-landscape-with-sand-dunes-clear-blue-sky-illustration_136277-372.jpg?w=996\n",
            "[%] File Downloaded !\n",
            "\n",
            "[%] Downloading Image #26 from https://img.freepik.com/premium-photo/atmospheric-winter-landscape-with-snowcovered-dry-plants-forest-during-snowfall_199743-14206.jpg?w=1060\n",
            "[%] File Downloaded !\n",
            "\n",
            "[%] Downloading Image #27 from https://l450v.alamy.com/450v/2b81f91/dry-desert-landscape-in-danakil-region-on-the-north-of-ethiopia-2b81f91.jpg\n",
            "[%] File Downloaded !\n",
            "\n",
            "[%] Downloading Image #28 from https://c8.alamy.com/comp/2HTM4KK/winter-landscape-of-leafless-dry-trees-along-a-snowy-path-in-the-forest-on-a-sunny-day-2HTM4KK.jpg\n",
            "[%] File Downloaded !\n",
            "\n",
            "[%] Downloading Image #29 from https://media.gettyimages.com/id/1144905446/video/dry-volcanic-landscape-of-tenerife-observatory-silhouette.jpg?s=key2&amp;k=20&amp;c=6XFJ1NVgVqqvtFsEhDiXABMpiXJtOgiFprpDEV9--w8=\n",
            "[!] Issue getting: https://media.gettyimages.com/id/1144905446/video/dry-volcanic-landscape-of-tenerife-observatory-silhouette.jpg?s=key2&amp;k=20&amp;c=6XFJ1NVgVqqvtFsEhDiXABMpiXJtOgiFprpDEV9--w8=\n",
            "[!] Error:: HTTP Error 400: Bad Request\n",
            "[%] Downloading Image #29 from https://media.gettyimages.com/id/1144905446/video/dry-volcanic-landscape-of-tenerife-observatory-silhouette.jpg?s=key4&amp;k=20&amp;c=2XlsNrEuWSh9bO7tDvgqC7L-8EgoMP9YV5nFQZlChVI=\n",
            "[!] Issue getting: https://media.gettyimages.com/id/1144905446/video/dry-volcanic-landscape-of-tenerife-observatory-silhouette.jpg?s=key4&amp;k=20&amp;c=2XlsNrEuWSh9bO7tDvgqC7L-8EgoMP9YV5nFQZlChVI=\n",
            "[!] Error:: HTTP Error 400: Bad Request\n",
            "[%] Downloading Image #29 from https://media.gettyimages.com/id/1144905446/video/dry-volcanic-landscape-of-tenerife-observatory-silhouette.jpg?s=key1&amp;k=20&amp;c=jAvHqbDt0FUjZ01lefYeiKM44-08-zVUugrLygwZoPs=\n",
            "[!] Issue getting: https://media.gettyimages.com/id/1144905446/video/dry-volcanic-landscape-of-tenerife-observatory-silhouette.jpg?s=key1&amp;k=20&amp;c=jAvHqbDt0FUjZ01lefYeiKM44-08-zVUugrLygwZoPs=\n",
            "[!] Error:: HTTP Error 400: Bad Request\n",
            "[%] Downloading Image #29 from https://media.gettyimages.com/id/1144905446/video/dry-volcanic-landscape-of-tenerife-observatory-silhouette.jpg?s=key3&amp;k=20&amp;c=u1TfGHiiYM839k1AI8chXq1p5TpEbPjCThYtcFwy3iw=\n",
            "[!] Issue getting: https://media.gettyimages.com/id/1144905446/video/dry-volcanic-landscape-of-tenerife-observatory-silhouette.jpg?s=key3&amp;k=20&amp;c=u1TfGHiiYM839k1AI8chXq1p5TpEbPjCThYtcFwy3iw=\n",
            "[!] Error:: HTTP Error 400: Bad Request\n",
            "[%] Downloading Image #29 from https://thumbs.dreamstime.com/x/autumn-sunny-landscape-looking-sunset-lake-yellow-dry-linden-leaves-solar-path-water-light-wind-calm-tranquil-260907292.jpg\n",
            "[%] File Downloaded !\n",
            "\n",
            "[%] Downloading Image #30 from https://c8.alamy.com/comp/2HTM4KH/winter-landscape-of-leafless-dry-trees-along-a-snowy-path-in-the-forest-on-a-sunny-day-2HTM4KH.jpg\n",
            "[%] File Downloaded !\n",
            "\n",
            "\n",
            "\n",
            "[%] Done. Downloaded 30 images.\n"
          ]
        }
      ]
    },
    {
      "cell_type": "code",
      "source": [
        "# downloader.download(\"green landscape\", limit = 30,output_dir = \"images\")"
      ],
      "metadata": {
        "colab": {
          "base_uri": "https://localhost:8080/"
        },
        "id": "lYsTVohO0EaD",
        "outputId": "0e265d77-b1bc-4f91-eacd-d513ec9f2a2b"
      },
      "execution_count": 11,
      "outputs": [
        {
          "output_type": "stream",
          "name": "stdout",
          "text": [
            "[%] Downloading Images to /content/images/green landscape\n",
            "\n",
            "\n",
            "[!!]Indexing page: 1\n",
            "\n",
            "[%] Indexed 18 Images on Page 1.\n",
            "\n",
            "===============================================\n",
            "\n",
            "[%] Downloading Image #1 from https://eskipaper.com/images/green-landscape-1.jpg\n",
            "[%] File Downloaded !\n",
            "\n",
            "[%] Downloading Image #2 from https://eskipaper.com/images/green-landscape-29.jpg\n",
            "[%] File Downloaded !\n",
            "\n",
            "[%] Downloading Image #3 from http://s1.bwallpapers.com/wallpapers/2014/08/06/green-landscape_085813817.jpg\n",
            "[%] File Downloaded !\n",
            "\n",
            "[%] Downloading Image #4 from https://images.fineartamerica.com/images-medium-large-5/a-green-landscape-michal-bednarek.jpg\n",
            "[%] File Downloaded !\n",
            "\n",
            "[%] Downloading Image #5 from https://www.wallpapers13.com/wp-content/uploads/2017/08/Waterfall-and-Stream-Green-Forest-rocks-green-moss-green-nature-Landscape-Nature-1920x1200.jpg\n",
            "[%] File Downloaded !\n",
            "\n",
            "[%] Downloading Image #6 from https://a-static.besthdwallpaper.com/green-landscape-wallpaper-640x1136-1626_163.jpg\n",
            "[%] File Downloaded !\n",
            "\n",
            "[%] Downloading Image #7 from http://www.wallpapers13.com/wp-content/uploads/2019/07/Old-growth-forest-trees-green-leaves-green-moss-moisture-mist-evaporation-HD-wallpaper-for-desktop-backgrounds-nature-wallpaper-nature-landscape-1920x1080.jpg\n",
            "[%] File Downloaded !\n",
            "\n",
            "[%] Downloading Image #8 from http://www.wallpapers13.com/wp-content/uploads/2016/01/Cascade-waterfall-with-exotic-tropical-vegetation-green-trees-sparkling-water-rock-Erawan-Falls-National-Park-Thailand-Desktop-HD-Wallpapers-for-mobile-phones-and-computer-3840x2400.jpg\n",
            "[%] File Downloaded !\n",
            "\n",
            "[%] Downloading Image #9 from http://image.shutterstock.com/z/stock-photo-green-landscape-94652485.jpg\n",
            "[%] File Downloaded !\n",
            "\n",
            "[%] Downloading Image #10 from https://www.wallpapers13.com/wp-content/uploads/2016/07/Summer-Landscape-Green-Norwegian-mountains-rocky-peaks-lake-HD-Desktop-Wallpaper-5200x3250.jpg\n",
            "[%] File Downloaded !\n",
            "\n",
            "[%] Downloading Image #11 from https://live.staticflickr.com/5152/5912141251_48bf538542.jpg\n",
            "[%] File Downloaded !\n",
            "\n",
            "[%] Downloading Image #12 from http://i.imgur.com/QGKBfPA.jpg\n",
            "[%] File Downloaded !\n",
            "\n",
            "[%] Downloading Image #13 from http://i.imgur.com/I2h66yb.jpg\n",
            "[%] File Downloaded !\n",
            "\n",
            "[%] Downloading Image #14 from https://wallpapershome.com/images/wallpapers/tuscany-3840x2160-4k-hd-wallpaper-italy-hills-meadows-house-fog-4888.jpg\n",
            "[%] File Downloaded !\n",
            "\n",
            "[%] Downloading Image #15 from https://thumbs.dreamstime.com/z/green-landscape-1777162.jpg\n",
            "[%] File Downloaded !\n",
            "\n",
            "[%] Downloading Image #16 from https://www.wallpapers13.com/wp-content/uploads/2020/02/Lake-Atitlán-Lake-in-Guatemala-large-volcanic-crater-in-the-southwestern-highlands-of-Guatemala-It-is-the-deepest-lake-in-Central-America-photo-landscape-Desktop-HD-Wallpaper.jpg\n",
            "[!] Issue getting: https://www.wallpapers13.com/wp-content/uploads/2020/02/Lake-Atitlán-Lake-in-Guatemala-large-volcanic-crater-in-the-southwestern-highlands-of-Guatemala-It-is-the-deepest-lake-in-Central-America-photo-landscape-Desktop-HD-Wallpaper.jpg\n",
            "[!] Error:: 'ascii' codec can't encode character '\\xe1' in position 42: ordinal not in range(128)\n",
            "[%] Downloading Image #16 from http://www.wallpapers13.com/wp-content/uploads/2016/04/Landscape-mountain-rocky-alpine-peak-with-snow-autumn-trees-with-yellow-leaves-river-blue-Matterhorn-Switzerland.jpg\n",
            "[%] File Downloaded !\n",
            "\n",
            "[%] Downloading Image #17 from https://www.wallpapers13.com/wp-content/uploads/2016/02/Spring-mountain-landscape-the-turquoise-lake-mountain-forest-flowers-clouds.jpg\n",
            "[%] File Downloaded !\n",
            "\n",
            "\n",
            "\n",
            "[!!]Indexing page: 2\n",
            "\n",
            "[%] Indexed 8 Images on Page 2.\n",
            "\n",
            "===============================================\n",
            "\n",
            "[%] Downloading Image #18 from https://www.wallpapers13.com/wp-content/uploads/2019/07/Old-growth-forest-trees-green-leaves-green-moss-moisture-mist-evaporation-HD-wallpaper-for-desktop-backgrounds-nature-wallpaper-nature-landscape.jpg\n",
            "[%] File Downloaded !\n",
            "\n",
            "[%] Downloading Image #19 from http://www.wallpapers13.com/wp-content/uploads/2015/12/Green_park_trees_nature_beautiful_day_hd-wallpaper-1871-1920x1440.jpg\n",
            "[%] File Downloaded !\n",
            "\n",
            "[%] Downloading Image #20 from http://www.wallpapers13.com/wp-content/uploads/2018/06/Erawan-waterfall-in-Thailand-jungle-rain-forest-rocks-in-water-natural-pool-ponds-Desktop-Wallpaper-HD-3840x2400.jpg\n",
            "[%] File Downloaded !\n",
            "\n",
            "[%] Downloading Image #21 from http://www.hdwallpapers.in/download/green_landscape-2560x1440.jpg\n",
            "[%] File Downloaded !\n",
            "\n",
            "[%] Downloading Image #22 from https://www.desicomments.com/dc3/02/225311/225311.jpg\n",
            "[%] File Downloaded !\n",
            "\n",
            "[%] Downloading Image #23 from http://www.wallpapers13.com/wp-content/uploads/2016/01/Beautiful-HD-wallpaper-waterfall-rocks-forest-247018-1600x1200.jpg\n",
            "[%] File Downloaded !\n",
            "\n",
            "[%] Downloading Image #24 from https://wallpapershome.com/images/wallpapers/green-grass-1920x1080-4k-hd-wallpaper-8k-field-dew-4708.jpg\n",
            "[%] File Downloaded !\n",
            "\n",
            "[%] Downloading Image #25 from http://www.art-virtue.com/painting/history/yuan/LeeKan/bamboo.jpg\n",
            "[%] File Downloaded !\n",
            "\n",
            "\n",
            "\n",
            "[!!]Indexing page: 3\n",
            "\n",
            "[%] Indexed 7 Images on Page 3.\n",
            "\n",
            "===============================================\n",
            "\n",
            "\n",
            "\n",
            "[!!]Indexing page: 4\n",
            "\n",
            "[%] Indexed 6 Images on Page 4.\n",
            "\n",
            "===============================================\n",
            "\n",
            "\n",
            "\n",
            "[!!]Indexing page: 5\n",
            "\n",
            "[%] Indexed 5 Images on Page 5.\n",
            "\n",
            "===============================================\n",
            "\n",
            "\n",
            "\n",
            "[!!]Indexing page: 6\n",
            "\n",
            "[%] Indexed 4 Images on Page 6.\n",
            "\n",
            "===============================================\n",
            "\n",
            "\n",
            "\n",
            "[!!]Indexing page: 7\n",
            "\n",
            "[%] Indexed 30 Images on Page 7.\n",
            "\n",
            "===============================================\n",
            "\n",
            "[%] Downloading Image #26 from https://i.ytimg.com/vi/XHmNrwiZuGI/maxresdefault.jpg\n",
            "[%] File Downloaded !\n",
            "\n",
            "[%] Downloading Image #27 from http://2.bp.blogspot.com/-0hQ8313-rvg/TjzsdLB0VUI/AAAAAAAAA3A/41qvVi4q230/s1600/beautiful+scenery+green+fields+landscape+wallpaper.jpg\n",
            "[%] File Downloaded !\n",
            "\n",
            "[%] Downloading Image #28 from https://wallpapershome.com/images/wallpapers/forest-2560x1440-5k-4k-wallpaper-8k-rocks-trees-plants-waterfall-river-583.jpg\n",
            "[%] File Downloaded !\n",
            "\n",
            "[%] Downloading Image #29 from http://www.wallpapers13.com/wp-content/uploads/2016/02/Landscape-mountains-with-green-forest-river-meadows-Ninh-Binh-Vietnam.jpg\n",
            "[%] File Downloaded !\n",
            "\n",
            "[%] Downloading Image #30 from http://www.freedigitalphotos.net/images/previews/green-landscape-1008302.jpg\n",
            "[%] File Downloaded !\n",
            "\n",
            "\n",
            "\n",
            "[%] Done. Downloaded 30 images.\n"
          ]
        }
      ]
    },
    {
      "cell_type": "code",
      "source": [
        "import os"
      ],
      "metadata": {
        "id": "zkYs69950MDK"
      },
      "execution_count": 2,
      "outputs": []
    },
    {
      "cell_type": "code",
      "source": [
        "file_path = \"/content/drought\""
      ],
      "metadata": {
        "id": "sywbIDX-1Wuq"
      },
      "execution_count": 7,
      "outputs": []
    },
    {
      "cell_type": "code",
      "source": [
        "count = 0\n",
        "for i in file_path:\n",
        "  count += 1\n",
        "print(count)"
      ],
      "metadata": {
        "colab": {
          "base_uri": "https://localhost:8080/"
        },
        "id": "Ts8lZm1i1gJC",
        "outputId": "e74f3429-67b6-4627-92ab-a2506e3485f7"
      },
      "execution_count": 8,
      "outputs": [
        {
          "output_type": "stream",
          "name": "stdout",
          "text": [
            "16\n"
          ]
        }
      ]
    },
    {
      "cell_type": "code",
      "execution_count": 4,
      "metadata": {
        "id": "Vt9ithGwSH6L"
      },
      "outputs": [],
      "source": [
        "# echo \"Downloading data\"\n",
        "# curl -SL https://storage.googleapis.com/wandb_datasets/dw_train_86K_val_10K.zip > dw_data.zip\n",
        "# unzip dw_data.zip\n",
        "# rm dw_data.zip\n",
        "# mv droughtwatch_data/ data/"
      ]
    }
  ]
}