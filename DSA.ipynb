{
  "cells": [
    {
      "cell_type": "markdown",
      "metadata": {
        "id": "view-in-github",
        "colab_type": "text"
      },
      "source": [
        "<a href=\"https://colab.research.google.com/github/Harish-aditya/Learnings/blob/main/DSA.ipynb\" target=\"_parent\"><img src=\"https://colab.research.google.com/assets/colab-badge.svg\" alt=\"Open In Colab\"/></a>"
      ]
    },
    {
      "cell_type": "code",
      "execution_count": null,
      "metadata": {
        "id": "MTjmLBOW5K_m"
      },
      "outputs": [],
      "source": []
    },
    {
      "cell_type": "markdown",
      "metadata": {
        "id": "tRW7cOrf5Kha"
      },
      "source": [
        "## ALGORITHM\n",
        "ALGORITHM should terminate and it should be independent of programming language\n",
        "\n"
      ]
    },
    {
      "cell_type": "code",
      "execution_count": null,
      "metadata": {
        "id": "XhhMbraJ40un"
      },
      "outputs": [],
      "source": [
        "# what is a efficiency\n",
        "# time and memory\n"
      ]
    },
    {
      "cell_type": "markdown",
      "metadata": {
        "id": "DzxasojQJ5lL"
      },
      "source": [
        "**Time complexity analysis**\n",
        "1. I'm interested in that part of the program which is taking the maximum amount of time\n",
        "2. I'll measure time complexity in terms of magnitude.(o(something))\n",
        "3. A simple statement in my program will take unit 1.\n",
        "simple statement example: a = a+2"
      ]
    },
    {
      "cell_type": "code",
      "execution_count": null,
      "metadata": {
        "id": "H9ylc2w54tCJ"
      },
      "outputs": [],
      "source": [
        "x = 10\n",
        "y = 12\n",
        "c = x-y\n",
        "print(c) \n",
        "# here o(4)"
      ]
    },
    {
      "cell_type": "code",
      "execution_count": null,
      "metadata": {
        "id": "eccAxh_XYUGz"
      },
      "outputs": [],
      "source": [
        "n = int(input())\n",
        "for i in range(n):\n",
        "  print(\"*\")\n",
        "\n",
        "#here O(n) if n is very large the program will spend lot of time in the loop\n"
      ]
    },
    {
      "cell_type": "code",
      "execution_count": null,
      "metadata": {
        "id": "FNsljJKoZEuS"
      },
      "outputs": [],
      "source": [
        "n = int(input())\n",
        "for i in range(n):\n",
        "  for j in range(n):\n",
        "    print(\"*\")\n",
        "\n",
        "# here 0(n^2) since there are two for loops."
      ]
    },
    {
      "cell_type": "code",
      "execution_count": null,
      "metadata": {
        "id": "9d3u-DfoZTEK"
      },
      "outputs": [],
      "source": [
        "n = int(input())\n",
        "for i in range(100):\n",
        "  print(\"*\")\n",
        "\n",
        "# here O(100) or you can write it with an constant K O(k)"
      ]
    },
    {
      "cell_type": "code",
      "execution_count": null,
      "metadata": {
        "id": "HkZW8u_OZjpn"
      },
      "outputs": [],
      "source": [
        "n = int(input())\n",
        "for i in range(n):\n",
        "  print(\"*\")\n",
        "for j in range(n):\n",
        "  print(\"*\")\n",
        "# here O(2n) since there are two for's"
      ]
    },
    {
      "cell_type": "code",
      "execution_count": null,
      "metadata": {
        "id": "umDUK_i8aGdj"
      },
      "outputs": [],
      "source": [
        "n = int(input())\n",
        "m = int(input())\n",
        "for i in range(n):\n",
        "  print(\"*\")\n",
        "for j in range(m):\n",
        "  print(\"*\")\n",
        "# here O(n+m) since there are two distinct ranges.\n",
        "# we can deduce that O(max(m,n)) also"
      ]
    },
    {
      "cell_type": "markdown",
      "metadata": {
        "id": "Aj_sHPN0a5bc"
      },
      "source": [
        "O(n) means that in that particular code block which part takes the highest number of cycles or units to execute. Like degree in the algebric equations.\n",
        "\n",
        "Time complexity function is a linear function."
      ]
    },
    {
      "cell_type": "code",
      "execution_count": null,
      "metadata": {
        "id": "8ejqOgZTbNGF"
      },
      "outputs": [],
      "source": [
        "n = int(input())\n",
        "m = int(input())\n",
        "for i in range(n):\n",
        "  print(\"*\")\n",
        "for j in range(m):\n",
        "  for i in range(m):\n",
        "    print(\"*\")\n",
        "\n",
        "# here O(m^2+n)"
      ]
    },
    {
      "cell_type": "code",
      "execution_count": null,
      "metadata": {
        "colab": {
          "base_uri": "https://localhost:8080/"
        },
        "id": "wWQv3N7OcSX5",
        "outputId": "c1d8a139-16b4-4eb9-ba0d-76ac7e3acb7b"
      },
      "outputs": [
        {
          "name": "stdout",
          "output_type": "stream",
          "text": [
            "3\n",
            "6\n"
          ]
        }
      ],
      "source": [
        "n = int(input())\n",
        "i = 1\n",
        "count = 0\n",
        "while i < n:\n",
        "  j = n\n",
        "  count += 1\n",
        "  while j > 1:\n",
        "    a = 1\n",
        "    b = 5\n",
        "    j = j/2\n",
        "    count += 1\n",
        "  i = i*2\n",
        "print(count)"
      ]
    },
    {
      "cell_type": "markdown",
      "metadata": {
        "id": "ialIqxoOf-pp"
      },
      "source": [
        "here o(log n * log n)\n",
        "\n",
        "since for n = 4 i runs 2 times and j runs 2 times\n",
        "\n",
        "since for n = 8 i runs 3 times and j runs 3 times\n",
        "\n",
        "since for n = 16 i runs 4 times and j runs 4 times\n",
        "\n",
        "log_2 4 = log_2 2^2 = 2*log_2 2 = 2\n",
        " \n",
        "log_2 8 = log_2 2^3 = 3*log_2 2 = 3"
      ]
    },
    {
      "cell_type": "markdown",
      "metadata": {
        "id": "cRkc5KEmhaP-"
      },
      "source": [
        "### Recursion\n",
        "Recursion has to break (base condition)\n"
      ]
    },
    {
      "cell_type": "code",
      "execution_count": null,
      "metadata": {
        "colab": {
          "base_uri": "https://localhost:8080/"
        },
        "id": "TQaXd955gy5i",
        "outputId": "208b1b9e-0324-4027-9bf7-ba293e5867c9"
      },
      "outputs": [
        {
          "name": "stdout",
          "output_type": "stream",
          "text": [
            "1\n",
            "2\n",
            "3\n",
            "4\n"
          ]
        }
      ],
      "source": [
        "def print_array(array):\n",
        "  if len(array) == 0:\n",
        "    return\n",
        "  else:\n",
        "    print(array[0])\n",
        "    print_array(array[1:])\n",
        "    # print(array[0])\n",
        "\n",
        "x = [1,2,3,4]\n",
        "print_array(x)"
      ]
    },
    {
      "cell_type": "markdown",
      "metadata": {
        "id": "_21DhWiCBsfh"
      },
      "source": [
        "using heap and stack.\n"
      ]
    },
    {
      "cell_type": "code",
      "execution_count": null,
      "metadata": {
        "colab": {
          "base_uri": "https://localhost:8080/"
        },
        "id": "9AUbA2hJ29VE",
        "outputId": "68be3c03-5a16-4461-873a-c02bd210b937"
      },
      "outputs": [
        {
          "name": "stdout",
          "output_type": "stream",
          "text": [
            "1 2\n",
            "[1, 2]\n"
          ]
        }
      ],
      "source": [
        "x = list(map(int,input().split()))\n",
        "print(x )"
      ]
    },
    {
      "cell_type": "markdown",
      "source": [
        "### Dynamic Array"
      ],
      "metadata": {
        "id": "dOntM-AWyjHf"
      }
    },
    {
      "cell_type": "markdown",
      "source": [
        "declare a 2-dimensional array of n empty arrays, all arrays are zero indexed.\n",
        "Declare an integer last answer and initialize it to 0.\n",
        "\n",
        "There are 2 type of queries, given as an array of strings for you to parse;\n",
        "\n",
        "1. Query: 1 x y\n",
        "  1. let idx = ((\n"
      ],
      "metadata": {
        "id": "gTtq-aoYywU-"
      }
    },
    {
      "cell_type": "code",
      "source": [],
      "metadata": {
        "id": "LIScT5AFytrm"
      },
      "execution_count": null,
      "outputs": []
    },
    {
      "cell_type": "code",
      "source": [],
      "metadata": {
        "id": "11jL9jeGwBUu"
      },
      "execution_count": null,
      "outputs": []
    }
  ],
  "metadata": {
    "colab": {
      "provenance": [],
      "include_colab_link": true
    },
    "kernelspec": {
      "display_name": "Python 3",
      "name": "python3"
    },
    "language_info": {
      "name": "python"
    }
  },
  "nbformat": 4,
  "nbformat_minor": 0
}