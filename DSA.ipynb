{
  "cells": [
    {
      "cell_type": "markdown",
      "metadata": {
        "id": "view-in-github",
        "colab_type": "text"
      },
      "source": [
        "<a href=\"https://colab.research.google.com/github/Harish-aditya/Learnings/blob/main/DSA.ipynb\" target=\"_parent\"><img src=\"https://colab.research.google.com/assets/colab-badge.svg\" alt=\"Open In Colab\"/></a>"
      ]
    },
    {
      "cell_type": "code",
      "execution_count": null,
      "metadata": {
        "id": "MTjmLBOW5K_m"
      },
      "outputs": [],
      "source": []
    },
    {
      "cell_type": "markdown",
      "metadata": {
        "id": "tRW7cOrf5Kha"
      },
      "source": [
        "## ALGORITHM\n",
        "ALGORITHM should terminate and it should be independent of programming language\n",
        "\n"
      ]
    },
    {
      "cell_type": "code",
      "execution_count": null,
      "metadata": {
        "id": "XhhMbraJ40un"
      },
      "outputs": [],
      "source": [
        "# what is a efficiency\n",
        "# time and memory\n"
      ]
    },
    {
      "cell_type": "markdown",
      "metadata": {
        "id": "DzxasojQJ5lL"
      },
      "source": [
        "**Time complexity analysis**\n",
        "1. I'm interested in that part of the program which is taking the maximum amount of time\n",
        "2. I'll measure time complexity in terms of magnitude.(o(something))\n",
        "3. A simple statement in my program will take unit 1.\n",
        "simple statement example: a = a+2"
      ]
    },
    {
      "cell_type": "code",
      "execution_count": null,
      "metadata": {
        "id": "H9ylc2w54tCJ"
      },
      "outputs": [],
      "source": [
        "x = 10\n",
        "y = 12\n",
        "c = x-y\n",
        "print(c) \n",
        "# here o(4)"
      ]
    },
    {
      "cell_type": "code",
      "execution_count": null,
      "metadata": {
        "id": "eccAxh_XYUGz"
      },
      "outputs": [],
      "source": [
        "n = int(input())\n",
        "for i in range(n):\n",
        "  print(\"*\")\n",
        "\n",
        "#here O(n) if n is very large the program will spend lot of time in the loop\n"
      ]
    },
    {
      "cell_type": "code",
      "execution_count": null,
      "metadata": {
        "id": "FNsljJKoZEuS"
      },
      "outputs": [],
      "source": [
        "n = int(input())\n",
        "for i in range(n):\n",
        "  for j in range(n):\n",
        "    print(\"*\")\n",
        "\n",
        "# here 0(n^2) since there are two for loops."
      ]
    },
    {
      "cell_type": "code",
      "execution_count": null,
      "metadata": {
        "id": "9d3u-DfoZTEK"
      },
      "outputs": [],
      "source": [
        "n = int(input())\n",
        "for i in range(100):\n",
        "  print(\"*\")\n",
        "\n",
        "# here O(100) or you can write it with an constant K O(k)"
      ]
    },
    {
      "cell_type": "code",
      "execution_count": null,
      "metadata": {
        "id": "HkZW8u_OZjpn"
      },
      "outputs": [],
      "source": [
        "n = int(input())\n",
        "for i in range(n):\n",
        "  print(\"*\")\n",
        "for j in range(n):\n",
        "  print(\"*\")\n",
        "# here O(2n) since there are two for's"
      ]
    },
    {
      "cell_type": "code",
      "execution_count": null,
      "metadata": {
        "id": "umDUK_i8aGdj"
      },
      "outputs": [],
      "source": [
        "n = int(input())\n",
        "m = int(input())\n",
        "for i in range(n):\n",
        "  print(\"*\")\n",
        "for j in range(m):\n",
        "  print(\"*\")\n",
        "# here O(n+m) since there are two distinct ranges.\n",
        "# we can deduce that O(max(m,n)) also"
      ]
    },
    {
      "cell_type": "markdown",
      "metadata": {
        "id": "Aj_sHPN0a5bc"
      },
      "source": [
        "O(n) means that in that particular code block which part takes the highest number of cycles or units to execute. Like degree in the algebric equations.\n",
        "\n",
        "Time complexity function is a linear function."
      ]
    },
    {
      "cell_type": "code",
      "execution_count": null,
      "metadata": {
        "id": "8ejqOgZTbNGF"
      },
      "outputs": [],
      "source": [
        "n = int(input())\n",
        "m = int(input())\n",
        "for i in range(n):\n",
        "  print(\"*\")\n",
        "for j in range(m):\n",
        "  for i in range(m):\n",
        "    print(\"*\")\n",
        "\n",
        "# here O(m^2+n)"
      ]
    },
    {
      "cell_type": "code",
      "execution_count": null,
      "metadata": {
        "colab": {
          "base_uri": "https://localhost:8080/"
        },
        "id": "wWQv3N7OcSX5",
        "outputId": "c1d8a139-16b4-4eb9-ba0d-76ac7e3acb7b"
      },
      "outputs": [
        {
          "name": "stdout",
          "output_type": "stream",
          "text": [
            "3\n",
            "6\n"
          ]
        }
      ],
      "source": [
        "n = int(input())\n",
        "i = 1\n",
        "count = 0\n",
        "while i < n:\n",
        "  j = n\n",
        "  count += 1\n",
        "  while j > 1:\n",
        "    a = 1\n",
        "    b = 5\n",
        "    j = j/2\n",
        "    count += 1\n",
        "  i = i*2\n",
        "print(count)"
      ]
    },
    {
      "cell_type": "markdown",
      "metadata": {
        "id": "ialIqxoOf-pp"
      },
      "source": [
        "here o(log n * log n)\n",
        "\n",
        "since for n = 4 i runs 2 times and j runs 2 times\n",
        "\n",
        "since for n = 8 i runs 3 times and j runs 3 times\n",
        "\n",
        "since for n = 16 i runs 4 times and j runs 4 times\n",
        "\n",
        "log_2 4 = log_2 2^2 = 2*log_2 2 = 2\n",
        " \n",
        "log_2 8 = log_2 2^3 = 3*log_2 2 = 3"
      ]
    },
    {
      "cell_type": "markdown",
      "metadata": {
        "id": "cRkc5KEmhaP-"
      },
      "source": [
        "### Recursion\n",
        "Recursion has to break (base condition)\n"
      ]
    },
    {
      "cell_type": "code",
      "execution_count": null,
      "metadata": {
        "colab": {
          "base_uri": "https://localhost:8080/"
        },
        "id": "TQaXd955gy5i",
        "outputId": "208b1b9e-0324-4027-9bf7-ba293e5867c9"
      },
      "outputs": [
        {
          "name": "stdout",
          "output_type": "stream",
          "text": [
            "1\n",
            "2\n",
            "3\n",
            "4\n"
          ]
        }
      ],
      "source": [
        "def print_array(array):\n",
        "  if len(array) == 0:\n",
        "    return\n",
        "  else:\n",
        "    print(array[0])\n",
        "    print_array(array[1:])\n",
        "    # print(array[0])\n",
        "\n",
        "x = [1,2,3,4]\n",
        "print_array(x)"
      ]
    },
    {
      "cell_type": "markdown",
      "metadata": {
        "id": "_21DhWiCBsfh"
      },
      "source": [
        "using heap and stack.\n"
      ]
    },
    {
      "cell_type": "code",
      "execution_count": null,
      "metadata": {
        "colab": {
          "base_uri": "https://localhost:8080/"
        },
        "id": "9AUbA2hJ29VE",
        "outputId": "68be3c03-5a16-4461-873a-c02bd210b937"
      },
      "outputs": [
        {
          "name": "stdout",
          "output_type": "stream",
          "text": [
            "1 2\n",
            "[1, 2]\n"
          ]
        }
      ],
      "source": [
        "x = list(map(int,input().split()))\n",
        "print(x )"
      ]
    },
    {
      "cell_type": "code",
      "source": [
        "class M(object):\n",
        "\t\n",
        "\tdef public(self):\n",
        "\t\tprint ('Use Tab to see me !')\n",
        "\t\t\n",
        "\tdef _private(self):\n",
        "\t\tprint (\"You won't be able to Tab to see me !\")\n"
      ],
      "metadata": {
        "id": "GAA-tiqbSFNv"
      },
      "execution_count": 2,
      "outputs": []
    },
    {
      "cell_type": "code",
      "source": [
        "m = M()\n",
        "m.public()"
      ],
      "metadata": {
        "colab": {
          "base_uri": "https://localhost:8080/"
        },
        "id": "6esFfcpzSF-v",
        "outputId": "89d90b52-3f14-4dae-db95-434ca0b0c8e8"
      },
      "execution_count": 3,
      "outputs": [
        {
          "output_type": "stream",
          "name": "stdout",
          "text": [
            "Use Tab to see me !\n"
          ]
        }
      ]
    },
    {
      "cell_type": "code",
      "source": [
        "m._private()"
      ],
      "metadata": {
        "colab": {
          "base_uri": "https://localhost:8080/"
        },
        "id": "ZWniMc4RSbf-",
        "outputId": "cf717fae-9eaa-4dc5-fd37-756f2895d762"
      },
      "execution_count": 5,
      "outputs": [
        {
          "output_type": "stream",
          "name": "stdout",
          "text": [
            "You won't be able to Tab to see me !\n"
          ]
        }
      ]
    },
    {
      "cell_type": "code",
      "source": [],
      "metadata": {
        "id": "Ok7IiKm9k1xV"
      },
      "execution_count": null,
      "outputs": []
    },
    {
      "cell_type": "code",
      "source": [
        "import ctypes\n",
        "\n",
        "class DynamicArray(object):\n",
        "\t'''\n",
        "\tDYNAMIC ARRAY CLASS (Similar to Python List)\n",
        "\t'''\n",
        "\t\n",
        "\tdef __init__(self):\n",
        "\t\tself.n = 0 # Count actual elements (Default is 0)\n",
        "\t\tself.capacity = 1 # Default Capacity\n",
        "\t\tself.A = self.make_array(self.capacity)\n",
        "\t\t\n",
        "\tdef __len__(self):\n",
        "\t\t\"\"\"\n",
        "\t\tReturn number of elements stored in array\n",
        "\t\t\"\"\"\n",
        "\t\treturn self.n\n",
        "\t\n",
        "\tdef __getitem__(self, k):\n",
        "\t\t\"\"\"\n",
        "\t\tReturn element at index k\n",
        "\t\t\"\"\"\n",
        "\t\tif not 0 <= k <self.n:\n",
        "\t\t\t# Check it k index is in bounds of array\n",
        "\t\t\treturn IndexError('K is out of bounds !')\n",
        "\t\t\n",
        "\t\treturn self.A[k] # Retrieve from the array at index k\n",
        "\t\t\n",
        "\tdef append(self, ele):\n",
        "\t\t\"\"\"\n",
        "\t\tAdd element to end of the array\n",
        "\t\t\"\"\"\n",
        "\t\tif self.n == self.capacity:\n",
        "\t\t\t# Double capacity if not enough room\n",
        "\t\t\tself._resize(2 * self.capacity)\n",
        "\t\t\n",
        "\t\tself.A[self.n] = ele # Set self.n index to element\n",
        "\t\tself.n += 1\n",
        "\n",
        "\tdef insertAt(self,item,index):\n",
        "\t\t\"\"\"\n",
        "\t\tThis function inserts the item at any specified index.\n",
        "\t\t\"\"\"\n",
        "\n",
        "\t\t\n",
        "\t\tif index<0 or index>self.n:\n",
        "\t\t\tprint(\"please enter appropriate index..\")\n",
        "\t\t\treturn\n",
        "\t\t\n",
        "\t\tif self.n==self.capacity:\n",
        "\t\t\tself._resize(2*self.capacity)\n",
        "\t\t\t\n",
        "\t\t\n",
        "\t\tfor i in range(self.n-1,index-1,-1):\n",
        "\t\t\tself.A[i+1]=self.A[i]\n",
        "\t\t\t\n",
        "\t\t\n",
        "\t\tself.A[index]=item\n",
        "\t\tself.n+=1\n",
        "\n",
        "\n",
        "\t\t\n",
        "\tdef delete(self):\n",
        "\t\t\"\"\"\n",
        "\t\tThis function deletes item from the end of array\n",
        "\t\t\"\"\"\n",
        "\n",
        "\t\tif self.n==0:\n",
        "\t\t\tprint(\"Array is empty deletion not Possible\")\n",
        "\t\t\treturn\n",
        "\t\t\n",
        "\t\tself.A[self.n-1]=0\n",
        "\t\tself.n-=1\n",
        "\t\t\n",
        "\t\t\n",
        "\t\t\n",
        "\t\n",
        "\tdef removeAt(self,index):\n",
        "\t\t\"\"\"\n",
        "\t\tThis function deletes item from a specified index..\n",
        "\t\t\"\"\"\t\n",
        "\n",
        "\t\tif self.n==0:\n",
        "\t\t\tprint(\"Array is empty deletion not Possible\")\n",
        "\t\t\treturn\n",
        "\t\t\t\t\n",
        "\t\tif index<0 or index>=self.n:\n",
        "\t\t\treturn IndexError(\"Index out of bound....deletion not possible\")\t\n",
        "\t\t\n",
        "\t\tif index==self.n-1:\n",
        "\t\t\tself.A[index]=0\n",
        "\t\t\tself.n-=1\n",
        "\t\t\treturn\t\n",
        "\t\t\n",
        "\t\tfor i in range(index,self.n-1):\n",
        "\t\t\tself.A[i]=self.A[i+1]\t\t\n",
        "\t\t\t\n",
        "\t\t\n",
        "\t\tself.A[self.n-1]=0\n",
        "\t\tself.n-=1\n",
        "\n",
        "\t\t\n",
        "\tdef _resize(self, new_cap):\n",
        "\t\t\"\"\"\n",
        "\t\tResize internal array to capacity new_cap\n",
        "\t\t\"\"\"\n",
        "\t\t\n",
        "\t\tB = self.make_array(new_cap) # New bigger array\n",
        "\t\t\n",
        "\t\tfor k in range(self.n): # Reference all existing values\n",
        "\t\t\tB[k] = self.A[k]\n",
        "\t\t\t\n",
        "\t\tself.A = B # Call A the new bigger array\n",
        "\t\tself.capacity = new_cap # Reset the capacity\n",
        "\t\t\n",
        "\tdef make_array(self, new_cap):\n",
        "\t\t\"\"\"\n",
        "\t\tReturns a new array with new_cap capacity\n",
        "\t\t\"\"\"\n",
        "\t\treturn (new_cap * ctypes.py_object)()\n"
      ],
      "metadata": {
        "id": "TuB1ZTkESeGG"
      },
      "execution_count": 6,
      "outputs": []
    },
    {
      "cell_type": "code",
      "source": [
        "arr = DynamicArray()"
      ],
      "metadata": {
        "id": "-rHLJxVUjTk1"
      },
      "execution_count": 7,
      "outputs": []
    },
    {
      "cell_type": "code",
      "source": [
        "len(arr)"
      ],
      "metadata": {
        "id": "UHVboQPpjX_V",
        "outputId": "cbf09ab8-108e-49ef-8b92-30383ee300e3",
        "colab": {
          "base_uri": "https://localhost:8080/"
        }
      },
      "execution_count": 8,
      "outputs": [
        {
          "output_type": "execute_result",
          "data": {
            "text/plain": [
              "0"
            ]
          },
          "metadata": {},
          "execution_count": 8
        }
      ]
    },
    {
      "cell_type": "code",
      "source": [
        "arr.append(1)"
      ],
      "metadata": {
        "id": "EC0t1FUfjaM0"
      },
      "execution_count": 9,
      "outputs": []
    },
    {
      "cell_type": "code",
      "source": [
        "len(arr)"
      ],
      "metadata": {
        "id": "F3RSw6yCjbzc",
        "outputId": "6ecc1f8f-2c03-409c-82e6-7a066ef1d7ed",
        "colab": {
          "base_uri": "https://localhost:8080/"
        }
      },
      "execution_count": 11,
      "outputs": [
        {
          "output_type": "execute_result",
          "data": {
            "text/plain": [
              "1"
            ]
          },
          "metadata": {},
          "execution_count": 11
        }
      ]
    },
    {
      "cell_type": "code",
      "source": [
        "print(arr.A)"
      ],
      "metadata": {
        "id": "vizEJTM7jch8",
        "outputId": "d4b519d3-e397-4e35-db8b-000b0b0259d8",
        "colab": {
          "base_uri": "https://localhost:8080/"
        }
      },
      "execution_count": 14,
      "outputs": [
        {
          "output_type": "stream",
          "name": "stdout",
          "text": [
            "<__main__.py_object_Array_1 object at 0x7f90e2912cc0>\n"
          ]
        }
      ]
    },
    {
      "cell_type": "code",
      "source": [
        "import ctypes"
      ],
      "metadata": {
        "id": "x-kOGfNsjqZN"
      },
      "execution_count": 15,
      "outputs": []
    },
    {
      "cell_type": "markdown",
      "source": [
        "ctypes is the dedicated package for dynamic array and all the c programming data types."
      ],
      "metadata": {
        "id": "TGdOGcKwlZGt"
      }
    },
    {
      "cell_type": "code",
      "source": [],
      "metadata": {
        "id": "OsqiJRoKlX-O"
      },
      "execution_count": null,
      "outputs": []
    }
  ],
  "metadata": {
    "colab": {
      "provenance": [],
      "include_colab_link": true
    },
    "kernelspec": {
      "display_name": "Python 3",
      "name": "python3"
    },
    "language_info": {
      "name": "python"
    }
  },
  "nbformat": 4,
  "nbformat_minor": 0
}