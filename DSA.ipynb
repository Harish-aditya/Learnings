{
  "cells": [
    {
      "cell_type": "markdown",
      "metadata": {
        "id": "view-in-github",
        "colab_type": "text"
      },
      "source": [
        "<a href=\"https://colab.research.google.com/github/Harish-aditya/Learnings/blob/main/DSA.ipynb\" target=\"_parent\"><img src=\"https://colab.research.google.com/assets/colab-badge.svg\" alt=\"Open In Colab\"/></a>"
      ]
    },
    {
      "cell_type": "code",
      "execution_count": null,
      "metadata": {
        "id": "MTjmLBOW5K_m"
      },
      "outputs": [],
      "source": []
    },
    {
      "cell_type": "markdown",
      "metadata": {
        "id": "tRW7cOrf5Kha"
      },
      "source": [
        "## ALGORITHM\n",
        "ALGORITHM should terminate and it should be independent of programming language\n",
        "\n"
      ]
    },
    {
      "cell_type": "code",
      "execution_count": null,
      "metadata": {
        "id": "XhhMbraJ40un"
      },
      "outputs": [],
      "source": [
        "# what is a efficiency\n",
        "# time and memory\n"
      ]
    },
    {
      "cell_type": "markdown",
      "metadata": {
        "id": "DzxasojQJ5lL"
      },
      "source": [
        "**Time complexity analysis**\n",
        "1. I'm interested in that part of the program which is taking the maximum amount of time\n",
        "2. I'll measure time complexity in terms of magnitude.(o(something))\n",
        "3. A simple statement in my program will take unit 1.\n",
        "simple statement example: a = a+2"
      ]
    },
    {
      "cell_type": "code",
      "execution_count": null,
      "metadata": {
        "id": "H9ylc2w54tCJ"
      },
      "outputs": [],
      "source": [
        "x = 10\n",
        "y = 12\n",
        "c = x-y\n",
        "print(c) \n",
        "# here o(4)"
      ]
    },
    {
      "cell_type": "code",
      "execution_count": null,
      "metadata": {
        "id": "eccAxh_XYUGz"
      },
      "outputs": [],
      "source": [
        "n = int(input())\n",
        "for i in range(n):\n",
        "  print(\"*\")\n",
        "\n",
        "#here O(n) if n is very large the program will spend lot of time in the loop\n"
      ]
    },
    {
      "cell_type": "code",
      "execution_count": null,
      "metadata": {
        "id": "FNsljJKoZEuS"
      },
      "outputs": [],
      "source": [
        "n = int(input())\n",
        "for i in range(n):\n",
        "  for j in range(n):\n",
        "    print(\"*\")\n",
        "\n",
        "# here 0(n^2) since there are two for loops."
      ]
    },
    {
      "cell_type": "code",
      "execution_count": null,
      "metadata": {
        "id": "9d3u-DfoZTEK"
      },
      "outputs": [],
      "source": [
        "n = int(input())\n",
        "for i in range(100):\n",
        "  print(\"*\")\n",
        "\n",
        "# here O(100) or you can write it with an constant K O(k)"
      ]
    },
    {
      "cell_type": "code",
      "execution_count": null,
      "metadata": {
        "id": "HkZW8u_OZjpn"
      },
      "outputs": [],
      "source": [
        "n = int(input())\n",
        "for i in range(n):\n",
        "  print(\"*\")\n",
        "for j in range(n):\n",
        "  print(\"*\")\n",
        "# here O(2n) since there are two for's"
      ]
    },
    {
      "cell_type": "code",
      "execution_count": null,
      "metadata": {
        "id": "umDUK_i8aGdj"
      },
      "outputs": [],
      "source": [
        "n = int(input())\n",
        "m = int(input())\n",
        "for i in range(n):\n",
        "  print(\"*\")\n",
        "for j in range(m):\n",
        "  print(\"*\")\n",
        "# here O(n+m) since there are two distinct ranges.\n",
        "# we can deduce that O(max(m,n)) also"
      ]
    },
    {
      "cell_type": "markdown",
      "metadata": {
        "id": "Aj_sHPN0a5bc"
      },
      "source": [
        "O(n) means that in that particular code block which part takes the highest number of cycles or units to execute. Like degree in the algebric equations.\n",
        "\n",
        "Time complexity function is a linear function."
      ]
    },
    {
      "cell_type": "code",
      "execution_count": null,
      "metadata": {
        "id": "8ejqOgZTbNGF"
      },
      "outputs": [],
      "source": [
        "n = int(input())\n",
        "m = int(input())\n",
        "for i in range(n):\n",
        "  print(\"*\")\n",
        "for j in range(m):\n",
        "  for i in range(m):\n",
        "    print(\"*\")\n",
        "\n",
        "# here O(m^2+n)"
      ]
    },
    {
      "cell_type": "code",
      "execution_count": null,
      "metadata": {
        "colab": {
          "base_uri": "https://localhost:8080/"
        },
        "id": "wWQv3N7OcSX5",
        "outputId": "c1d8a139-16b4-4eb9-ba0d-76ac7e3acb7b"
      },
      "outputs": [
        {
          "name": "stdout",
          "output_type": "stream",
          "text": [
            "3\n",
            "6\n"
          ]
        }
      ],
      "source": [
        "n = int(input())\n",
        "i = 1\n",
        "count = 0\n",
        "while i < n:\n",
        "  j = n\n",
        "  count += 1\n",
        "  while j > 1:\n",
        "    a = 1\n",
        "    b = 5\n",
        "    j = j/2\n",
        "    count += 1\n",
        "  i = i*2\n",
        "print(count)"
      ]
    },
    {
      "cell_type": "markdown",
      "metadata": {
        "id": "ialIqxoOf-pp"
      },
      "source": [
        "here o(log n * log n)\n",
        "\n",
        "since for n = 4 i runs 2 times and j runs 2 times\n",
        "\n",
        "since for n = 8 i runs 3 times and j runs 3 times\n",
        "\n",
        "since for n = 16 i runs 4 times and j runs 4 times\n",
        "\n",
        "log_2 4 = log_2 2^2 = 2*log_2 2 = 2\n",
        " \n",
        "log_2 8 = log_2 2^3 = 3*log_2 2 = 3"
      ]
    },
    {
      "cell_type": "markdown",
      "metadata": {
        "id": "cRkc5KEmhaP-"
      },
      "source": [
        "### Recursion\n",
        "Recursion has to break (base condition)\n"
      ]
    },
    {
      "cell_type": "code",
      "execution_count": null,
      "metadata": {
        "colab": {
          "base_uri": "https://localhost:8080/"
        },
        "id": "TQaXd955gy5i",
        "outputId": "208b1b9e-0324-4027-9bf7-ba293e5867c9"
      },
      "outputs": [
        {
          "name": "stdout",
          "output_type": "stream",
          "text": [
            "1\n",
            "2\n",
            "3\n",
            "4\n"
          ]
        }
      ],
      "source": [
        "def print_array(array):\n",
        "  if len(array) == 0:\n",
        "    return\n",
        "  else:\n",
        "    print(array[0])\n",
        "    print_array(array[1:])\n",
        "    # print(array[0])\n",
        "\n",
        "x = [1,2,3,4]\n",
        "print_array(x)"
      ]
    },
    {
      "cell_type": "markdown",
      "metadata": {
        "id": "_21DhWiCBsfh"
      },
      "source": [
        "using heap and stack.\n"
      ]
    },
    {
      "cell_type": "code",
      "execution_count": null,
      "metadata": {
        "colab": {
          "base_uri": "https://localhost:8080/"
        },
        "id": "9AUbA2hJ29VE",
        "outputId": "68be3c03-5a16-4461-873a-c02bd210b937"
      },
      "outputs": [
        {
          "name": "stdout",
          "output_type": "stream",
          "text": [
            "1 2\n",
            "[1, 2]\n"
          ]
        }
      ],
      "source": [
        "x = list(map(int,input().split()))\n",
        "print(x )"
      ]
    },
    {
      "cell_type": "code",
      "execution_count": null,
      "metadata": {
        "id": "GAA-tiqbSFNv"
      },
      "outputs": [],
      "source": [
        "class M(object):\n",
        "\t\n",
        "\tdef public(self):\n",
        "\t\tprint ('Use Tab to see me !')\n",
        "\t\t\n",
        "\tdef _private(self):\n",
        "\t\tprint (\"You won't be able to Tab to see me !\")\n"
      ]
    },
    {
      "cell_type": "code",
      "execution_count": null,
      "metadata": {
        "colab": {
          "base_uri": "https://localhost:8080/"
        },
        "id": "6esFfcpzSF-v",
        "outputId": "89d90b52-3f14-4dae-db95-434ca0b0c8e8"
      },
      "outputs": [
        {
          "name": "stdout",
          "output_type": "stream",
          "text": [
            "Use Tab to see me !\n"
          ]
        }
      ],
      "source": [
        "m = M()\n",
        "m.public()"
      ]
    },
    {
      "cell_type": "code",
      "execution_count": null,
      "metadata": {
        "colab": {
          "base_uri": "https://localhost:8080/"
        },
        "id": "ZWniMc4RSbf-",
        "outputId": "cf717fae-9eaa-4dc5-fd37-756f2895d762"
      },
      "outputs": [
        {
          "name": "stdout",
          "output_type": "stream",
          "text": [
            "You won't be able to Tab to see me !\n"
          ]
        }
      ],
      "source": [
        "m._private()"
      ]
    },
    {
      "cell_type": "code",
      "execution_count": null,
      "metadata": {
        "id": "Ok7IiKm9k1xV"
      },
      "outputs": [],
      "source": []
    },
    {
      "cell_type": "code",
      "execution_count": null,
      "metadata": {
        "id": "TuB1ZTkESeGG"
      },
      "outputs": [],
      "source": []
    },
    {
      "cell_type": "code",
      "execution_count": null,
      "metadata": {
        "id": "-rHLJxVUjTk1"
      },
      "outputs": [],
      "source": [
        "arr = DynamicArray()"
      ]
    },
    {
      "cell_type": "code",
      "execution_count": null,
      "metadata": {
        "colab": {
          "base_uri": "https://localhost:8080/"
        },
        "id": "UHVboQPpjX_V",
        "outputId": "cbf09ab8-108e-49ef-8b92-30383ee300e3"
      },
      "outputs": [
        {
          "data": {
            "text/plain": [
              "0"
            ]
          },
          "execution_count": 8,
          "metadata": {},
          "output_type": "execute_result"
        }
      ],
      "source": [
        "len(arr)"
      ]
    },
    {
      "cell_type": "code",
      "execution_count": null,
      "metadata": {
        "id": "EC0t1FUfjaM0"
      },
      "outputs": [],
      "source": [
        "arr.append(1)"
      ]
    },
    {
      "cell_type": "code",
      "execution_count": null,
      "metadata": {
        "colab": {
          "base_uri": "https://localhost:8080/"
        },
        "id": "F3RSw6yCjbzc",
        "outputId": "6ecc1f8f-2c03-409c-82e6-7a066ef1d7ed"
      },
      "outputs": [
        {
          "data": {
            "text/plain": [
              "1"
            ]
          },
          "execution_count": 11,
          "metadata": {},
          "output_type": "execute_result"
        }
      ],
      "source": [
        "len(arr)"
      ]
    },
    {
      "cell_type": "code",
      "execution_count": null,
      "metadata": {
        "colab": {
          "base_uri": "https://localhost:8080/"
        },
        "id": "vizEJTM7jch8",
        "outputId": "d4b519d3-e397-4e35-db8b-000b0b0259d8"
      },
      "outputs": [
        {
          "name": "stdout",
          "output_type": "stream",
          "text": [
            "<__main__.py_object_Array_1 object at 0x7f90e2912cc0>\n"
          ]
        }
      ],
      "source": [
        "print(arr.A)"
      ]
    },
    {
      "cell_type": "code",
      "execution_count": null,
      "metadata": {
        "id": "x-kOGfNsjqZN"
      },
      "outputs": [],
      "source": [
        "import ctypes"
      ]
    },
    {
      "cell_type": "markdown",
      "metadata": {
        "id": "TGdOGcKwlZGt"
      },
      "source": [
        "ctypes is the dedicated package for dynamic array and all the c programming data types."
      ]
    },
    {
      "cell_type": "markdown",
      "metadata": {
        "id": "-Xg-xBauxRu7"
      },
      "source": [
        "### ARRAY exercise"
      ]
    },
    {
      "cell_type": "markdown",
      "metadata": {
        "id": "1u0yd7cgxRu7"
      },
      "source": [
        "Exercise: Array DataStructure\n",
        "Let us say your expense for every month are listed below,\n",
        "January - 2200\n",
        "February - 2350\n",
        "March - 2600\n",
        "April - 2130\n",
        "May - 2190\n",
        "Create a list to store these monthly expenses and using that find out,"
      ]
    },
    {
      "cell_type": "markdown",
      "metadata": {
        "id": "GDtivQaGxRu7"
      },
      "source": [
        "1. In Feb, how many dollars you spent extra compare to January?"
      ]
    },
    {
      "cell_type": "code",
      "execution_count": null,
      "metadata": {
        "id": "OsqiJRoKlX-O"
      },
      "outputs": [],
      "source": [
        "expense = [2200,2350,2600,2130,2190]"
      ]
    },
    {
      "cell_type": "code",
      "execution_count": null,
      "metadata": {
        "id": "NywPYVUPxRu8",
        "outputId": "6435bc47-402b-4712-fbeb-185efbd1c20c"
      },
      "outputs": [
        {
          "data": {
            "text/plain": [
              "2350"
            ]
          },
          "execution_count": 2,
          "metadata": {},
          "output_type": "execute_result"
        }
      ],
      "source": [
        "expense[1]"
      ]
    },
    {
      "cell_type": "markdown",
      "metadata": {
        "id": "WnUk3bIqxRu8"
      },
      "source": [
        "2. Find out your total expense in first quarter (first three months) of the year.\n",
        "3. Find out if you spent exactly 2000 dollars in any month\n",
        "4. June month just finished and your expense is 1980 dollar. Add this item to our monthly expense list\n",
        "5. You returned an item that you bought in a month of April and\n",
        "got a refund of 200$. Make a correction to your monthly expense list\n",
        "based on this"
      ]
    },
    {
      "cell_type": "code",
      "execution_count": null,
      "metadata": {
        "id": "rM7_5mXhxRu8",
        "outputId": "81764960-28e0-4d40-fca8-49b211567711"
      },
      "outputs": [
        {
          "data": {
            "text/plain": [
              "7150"
            ]
          },
          "execution_count": 3,
          "metadata": {},
          "output_type": "execute_result"
        }
      ],
      "source": [
        "total_expense = expense[0] + expense[1] + expense[2]\n",
        "total_expense"
      ]
    },
    {
      "cell_type": "code",
      "execution_count": null,
      "metadata": {
        "id": "L3awVdYixRu9",
        "outputId": "a5328bc6-c600-4bb7-ced4-51a74ac29ee7"
      },
      "outputs": [
        {
          "name": "stdout",
          "output_type": "stream",
          "text": [
            "False\n",
            "False\n",
            "False\n",
            "False\n",
            "False\n"
          ]
        }
      ],
      "source": [
        "for i in expense:\n",
        "    if i == 2000:\n",
        "        print(True)\n",
        "    else:\n",
        "        print(False)"
      ]
    },
    {
      "cell_type": "code",
      "execution_count": null,
      "metadata": {
        "id": "kWm72PdLxRu9"
      },
      "outputs": [],
      "source": [
        "expense.append(1980)"
      ]
    },
    {
      "cell_type": "code",
      "execution_count": null,
      "metadata": {
        "id": "v4mdMjRRxRu9",
        "outputId": "951101e7-bcd7-42af-c376-eb156d6ba43b"
      },
      "outputs": [
        {
          "data": {
            "text/plain": [
              "[2200, 2350, 2600, 2130, 2190, 1980]"
            ]
          },
          "execution_count": 6,
          "metadata": {},
          "output_type": "execute_result"
        }
      ],
      "source": [
        "expense"
      ]
    },
    {
      "cell_type": "code",
      "execution_count": null,
      "metadata": {
        "id": "zsrEhqLNxRu-",
        "outputId": "f480219f-65a7-471d-8985-f703f84a1c1c"
      },
      "outputs": [
        {
          "data": {
            "text/plain": [
              "1930"
            ]
          },
          "execution_count": 7,
          "metadata": {},
          "output_type": "execute_result"
        }
      ],
      "source": [
        "expense[3] = expense[3] - 200\n",
        "expense[3]"
      ]
    },
    {
      "cell_type": "code",
      "execution_count": null,
      "metadata": {
        "id": "5FzKv3HbxRu-",
        "outputId": "95387596-890b-4a34-b172-e3010efdd2ba"
      },
      "outputs": [
        {
          "data": {
            "text/plain": [
              "[2200, 2350, 2600, 1930, 2190, 1980]"
            ]
          },
          "execution_count": 8,
          "metadata": {},
          "output_type": "execute_result"
        }
      ],
      "source": [
        "expense"
      ]
    },
    {
      "cell_type": "markdown",
      "metadata": {
        "id": "if1zJKcrxRu-"
      },
      "source": [
        "You have a list of your favourite marvel super heros."
      ]
    },
    {
      "cell_type": "markdown",
      "metadata": {
        "id": "2BofWBdwxRu_"
      },
      "source": [
        "1. Length of the list\n",
        "2. Add 'black panther' at the end of this list\n",
        "3. You realize that you need to add 'black panther' after 'hulk',\n",
        "   so remove it from the list first and then add it after 'hulk'\n",
        "4. Now you don't like thor and hulk because they get angry easily :)\n",
        "   So you want to remove thor and hulk from list and replace them with doctor strange (because he is cool).\n",
        "   Do that with one line of code.\n",
        "5. Sort the heros list in alphabetical order (Hint. Use dir() functions to list down all functions available in list)"
      ]
    },
    {
      "cell_type": "code",
      "execution_count": null,
      "metadata": {
        "id": "DJ4DZuqXxRu_"
      },
      "outputs": [],
      "source": [
        "heros=['spider man','thor','hulk','iron man','captain america']"
      ]
    },
    {
      "cell_type": "code",
      "execution_count": null,
      "metadata": {
        "id": "ix7fB5rOxRu_",
        "outputId": "49793366-31f4-4151-b360-7aabd32d2a12"
      },
      "outputs": [
        {
          "data": {
            "text/plain": [
              "5"
            ]
          },
          "execution_count": 10,
          "metadata": {},
          "output_type": "execute_result"
        }
      ],
      "source": [
        "len(heros)"
      ]
    },
    {
      "cell_type": "code",
      "execution_count": null,
      "metadata": {
        "id": "fp7NcpnXxRu_"
      },
      "outputs": [],
      "source": [
        "heros.append(\"black panther\")"
      ]
    },
    {
      "cell_type": "code",
      "execution_count": null,
      "metadata": {
        "id": "pmuT4uq6xRu_"
      },
      "outputs": [],
      "source": [
        "heros.remove('black panther')"
      ]
    },
    {
      "cell_type": "code",
      "execution_count": null,
      "metadata": {
        "id": "bQNklHGGxRvA",
        "outputId": "b66ef82a-6c3f-4a01-b07d-5cb53a92a9f7"
      },
      "outputs": [
        {
          "data": {
            "text/plain": [
              "['spider man', 'thor', 'hulk', 'iron man', 'captain america']"
            ]
          },
          "execution_count": 13,
          "metadata": {},
          "output_type": "execute_result"
        }
      ],
      "source": [
        "heros"
      ]
    },
    {
      "cell_type": "code",
      "execution_count": null,
      "metadata": {
        "id": "pSd3CUyxxRvA"
      },
      "outputs": [],
      "source": [
        "heros.insert(3,'black panther')"
      ]
    },
    {
      "cell_type": "code",
      "execution_count": null,
      "metadata": {
        "id": "1SPYJwerxRvA",
        "outputId": "91b61cf9-96a0-44e6-c7d6-60e597915f5a"
      },
      "outputs": [
        {
          "data": {
            "text/plain": [
              "['spider man', 'thor', 'hulk', 'black panther', 'iron man', 'captain america']"
            ]
          },
          "execution_count": 15,
          "metadata": {},
          "output_type": "execute_result"
        }
      ],
      "source": [
        "heros"
      ]
    },
    {
      "cell_type": "code",
      "execution_count": null,
      "metadata": {
        "id": "LECg28vXxRvA"
      },
      "outputs": [],
      "source": [
        "heros[1:3] = ['Doctor Strange']"
      ]
    },
    {
      "cell_type": "code",
      "execution_count": null,
      "metadata": {
        "id": "37-XPv9RxRvB"
      },
      "outputs": [],
      "source": [
        "heros[2:4] = []"
      ]
    },
    {
      "cell_type": "code",
      "execution_count": null,
      "metadata": {
        "id": "jhMMOLOXxRvB",
        "outputId": "41e29919-885c-4d22-cd6d-d4f7aba18b9b"
      },
      "outputs": [
        {
          "data": {
            "text/plain": [
              "['spider man',\n",
              " 'Doctor Strange',\n",
              " 'o',\n",
              " 'r',\n",
              " ' ',\n",
              " 'S',\n",
              " 't',\n",
              " 'r',\n",
              " 'a',\n",
              " 'n',\n",
              " 'g',\n",
              " 'e',\n",
              " 'iron man',\n",
              " 'captain america']"
            ]
          },
          "execution_count": 29,
          "metadata": {},
          "output_type": "execute_result"
        }
      ],
      "source": [
        "heros"
      ]
    },
    {
      "cell_type": "code",
      "execution_count": null,
      "metadata": {
        "id": "HstmmOAdxRvB"
      },
      "outputs": [],
      "source": [
        "heros[2:-2] = []"
      ]
    },
    {
      "cell_type": "code",
      "execution_count": null,
      "metadata": {
        "id": "4v0KH1xhxRvB",
        "outputId": "70326f1f-205e-4e2d-f232-acbad802de52"
      },
      "outputs": [
        {
          "data": {
            "text/plain": [
              "['spider man', 'Doctor Strange', 'iron man', 'captain america']"
            ]
          },
          "execution_count": 31,
          "metadata": {},
          "output_type": "execute_result"
        }
      ],
      "source": [
        "heros"
      ]
    },
    {
      "cell_type": "markdown",
      "metadata": {
        "id": "hJMSUEiexRvC"
      },
      "source": [
        "Create a list of all odd numbers between 1 and a max number. Max number is something you need to take from a user using input() function"
      ]
    },
    {
      "cell_type": "code",
      "execution_count": null,
      "metadata": {
        "id": "sfy3MbUKxRvC"
      },
      "outputs": [],
      "source": [
        "x = int(input())\n",
        "odd = []\n",
        "for i in range(1,x+1):\n",
        "    if i%2 == 1:\n",
        "        odd.append(i)\n",
        "    else:\n",
        "        pass     \n"
      ]
    },
    {
      "cell_type": "code",
      "execution_count": null,
      "metadata": {
        "id": "G3nnZhdTxRvC",
        "outputId": "553504ae-a991-4c11-8f9d-7b4213abc45a"
      },
      "outputs": [
        {
          "data": {
            "text/plain": [
              "[1,\n",
              " 3,\n",
              " 5,\n",
              " 7,\n",
              " 9,\n",
              " 11,\n",
              " 13,\n",
              " 15,\n",
              " 17,\n",
              " 19,\n",
              " 21,\n",
              " 23,\n",
              " 25,\n",
              " 27,\n",
              " 29,\n",
              " 31,\n",
              " 33,\n",
              " 35,\n",
              " 37,\n",
              " 39,\n",
              " 41,\n",
              " 43,\n",
              " 45,\n",
              " 47,\n",
              " 49]"
            ]
          },
          "execution_count": 33,
          "metadata": {},
          "output_type": "execute_result"
        }
      ],
      "source": [
        "odd"
      ]
    },
    {
      "cell_type": "code",
      "execution_count": 24,
      "metadata": {
        "id": "wRc4uFlQxRvC"
      },
      "outputs": [],
      "source": [
        "class Node:\n",
        "  def __init__(self,data = None,next = None):\n",
        "    self.data = data\n",
        "    self.next = next\n",
        "\n",
        "class linked_list:\n",
        "  def __init__(self):\n",
        "    self.head = None\n",
        "  \n",
        "  def insert_at_begining(self,data):\n",
        "    node = Node(data,self.head)\n",
        "    self.head = node\n",
        "  def print(self):\n",
        "    if self.head is None:\n",
        "       print(\"Linked list is empty\")\n",
        "       return\n",
        "       \n",
        "    itr = self.head\n",
        "    llstr = ''\n",
        "    while itr:\n",
        "      llstr += str(itr.data) + '-->'\n",
        "      itr = itr.next\n",
        "\n",
        "    print(llstr)\n",
        "  def insert_at_end(self,data):\n",
        "    if self.head is None:\n",
        "      self.head = Node(data,None)\n",
        "      return\n",
        "    \n",
        "    itr = self.head\n",
        "    while itr.next:\n",
        "      itr = itr.next\n",
        "\n",
        "    itr.next = Node(data,None)\n",
        "\n",
        "  def insert_values(self, data_list):\n",
        "    self.head = None\n",
        "    for data in data_list:\n",
        "      self.insert_at_end(data)"
      ]
    },
    {
      "cell_type": "code",
      "source": [
        "ll = linked_list()"
      ],
      "metadata": {
        "id": "EJ9W9Ebo2MkA"
      },
      "execution_count": 25,
      "outputs": []
    },
    {
      "cell_type": "code",
      "source": [
        "ll.insert_at_end(5)"
      ],
      "metadata": {
        "id": "MEzqtAM5-ZPp"
      },
      "execution_count": 17,
      "outputs": []
    },
    {
      "cell_type": "code",
      "source": [
        "ll.insert_at_end(89)"
      ],
      "metadata": {
        "id": "YcvkUGe5-dSJ"
      },
      "execution_count": 18,
      "outputs": []
    },
    {
      "cell_type": "code",
      "source": [
        "ll.print()"
      ],
      "metadata": {
        "colab": {
          "base_uri": "https://localhost:8080/"
        },
        "id": "hANg6ig8-g45",
        "outputId": "fd544b1c-3732-4265-ce43-1b394fbcfeb1"
      },
      "execution_count": 19,
      "outputs": [
        {
          "output_type": "stream",
          "name": "stdout",
          "text": [
            "5-->89-->\n"
          ]
        }
      ]
    },
    {
      "cell_type": "code",
      "source": [
        "ll.insert_at_end(79)"
      ],
      "metadata": {
        "id": "sgGqAevx-j6x"
      },
      "execution_count": 20,
      "outputs": []
    },
    {
      "cell_type": "code",
      "source": [
        "ll.print()"
      ],
      "metadata": {
        "colab": {
          "base_uri": "https://localhost:8080/"
        },
        "id": "8xeMP7RtAVpz",
        "outputId": "36c6b71c-1ad8-4044-d3b6-052a736186c4"
      },
      "execution_count": 21,
      "outputs": [
        {
          "output_type": "stream",
          "name": "stdout",
          "text": [
            "5-->89-->79-->\n"
          ]
        }
      ]
    },
    {
      "cell_type": "code",
      "source": [
        "ll.insert_at_begining(8)"
      ],
      "metadata": {
        "id": "5w4HMSUYAafC"
      },
      "execution_count": 22,
      "outputs": []
    },
    {
      "cell_type": "code",
      "source": [
        "ll.print()"
      ],
      "metadata": {
        "colab": {
          "base_uri": "https://localhost:8080/"
        },
        "id": "5l2VR_pHArEJ",
        "outputId": "e4894144-a5c9-401d-bd7c-a6edfa17aa60"
      },
      "execution_count": 23,
      "outputs": [
        {
          "output_type": "stream",
          "name": "stdout",
          "text": [
            "8-->5-->89-->79-->\n"
          ]
        }
      ]
    },
    {
      "cell_type": "code",
      "source": [
        "ll.insert_values(['a','b','c'])"
      ],
      "metadata": {
        "id": "nc7CQ23VAsni"
      },
      "execution_count": 26,
      "outputs": []
    },
    {
      "cell_type": "code",
      "source": [
        "ll.print()"
      ],
      "metadata": {
        "id": "1HW3AYZdBmIa",
        "outputId": "b9b9b9ec-801e-4232-8744-6da36c1429bd",
        "colab": {
          "base_uri": "https://localhost:8080/"
        }
      },
      "execution_count": 27,
      "outputs": [
        {
          "output_type": "stream",
          "name": "stdout",
          "text": [
            "a-->b-->c-->\n"
          ]
        }
      ]
    },
    {
      "cell_type": "code",
      "source": [],
      "metadata": {
        "id": "5ULOpYegBnu6"
      },
      "execution_count": null,
      "outputs": []
    }
  ],
  "metadata": {
    "colab": {
      "provenance": [],
      "include_colab_link": true
    },
    "kernelspec": {
      "display_name": "base",
      "language": "python",
      "name": "python3"
    },
    "language_info": {
      "codemirror_mode": {
        "name": "ipython",
        "version": 3
      },
      "file_extension": ".py",
      "mimetype": "text/x-python",
      "name": "python",
      "nbconvert_exporter": "python",
      "pygments_lexer": "ipython3",
      "version": "3.9.13"
    },
    "vscode": {
      "interpreter": {
        "hash": "603d71359ed1d9fe8529e0912945d40570428a0f34e43cffa7fe41267d475d48"
      }
    }
  },
  "nbformat": 4,
  "nbformat_minor": 0
}