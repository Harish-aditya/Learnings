{
  "nbformat": 4,
  "nbformat_minor": 0,
  "metadata": {
    "colab": {
      "provenance": [],
      "authorship_tag": "ABX9TyP/dbEZjOYDdNnvOIBGAkve",
      "include_colab_link": true
    },
    "kernelspec": {
      "name": "python3",
      "display_name": "Python 3"
    },
    "language_info": {
      "name": "python"
    }
  },
  "cells": [
    {
      "cell_type": "markdown",
      "metadata": {
        "id": "view-in-github",
        "colab_type": "text"
      },
      "source": [
        "<a href=\"https://colab.research.google.com/github/Harish-aditya/Learnings/blob/main/WebScrapping.ipynb\" target=\"_parent\"><img src=\"https://colab.research.google.com/assets/colab-badge.svg\" alt=\"Open In Colab\"/></a>"
      ]
    },
    {
      "cell_type": "code",
      "execution_count": 6,
      "metadata": {
        "id": "MzqmNRDPJHfn"
      },
      "outputs": [],
      "source": [
        "from bs4 import BeautifulSoup\n",
        "import lxml"
      ]
    },
    {
      "cell_type": "code",
      "source": [
        "with open(\"/content/home.html.txt\",'r') as html_file:\n",
        "  content = html_file.read()\n",
        "  print(content)"
      ],
      "metadata": {
        "colab": {
          "base_uri": "https://localhost:8080/"
        },
        "id": "N4d5W3WdJX3i",
        "outputId": "772b52fb-8a95-40bd-eedd-599ef8f77993"
      },
      "execution_count": 4,
      "outputs": [
        {
          "output_type": "stream",
          "name": "stdout",
          "text": [
            "<!DOCTYPE html>\n",
            "<html lang=\"en\">\n",
            "<head>\n",
            "    <title>home page</title>\n",
            "    <!--Import Google Icon Font-->\n",
            "    <link href=\"https://fonts.googleapis.com/icon?family=Material+Icons\" rel=\"stylesheet\">\n",
            "    <!--Import materialize.css-->\n",
            "    <link type=\"text/css\" rel=\"stylesheet\" href=\"css/materialize.min.css\"  media=\"screen,projection\"/>\n",
            "\n",
            "    <!--Let browser know website is optimized for mobile-->\n",
            "    <meta name=\"viewport\" content=\"width=device-width, initial-scale=1.0\"/>\n",
            "    <link rel=\"stylesheet\" href=\"https://cdnjs.cloudflare.com/ajax/libs/materialize/1.0.0/css/materialize.min.css\">\n",
            "    \n",
            "</head>\n",
            "<body>\n",
            "    \n",
            "    <h3> This is for the Web Technology Lab Credit Course for College.</h3>\n",
            "    <h4> This is for data structure lab credit course .</h4>\n",
            "    <div class=\"navbar\">\n",
            "        <nav>\n",
            "            <div class=\"nav-wrapper black\" >\n",
            "                    <img style=\"height: inherit; width: inherit;\" class=\"circle responsive-img\" src=\"https://cdn.vox-cdn.com/thumbor/8tLchaDMIEDNzUD3mYQ7v1ZQL84=/0x0:2012x1341/920x613/filters:focal(0x0:2012x1341):format(webp)/cdn.vox-cdn.com/uploads/chorus_image/image/47070706/google2.0.0.jpg\">\n",
            "                &nbsp;<a href=\"#\" class=\"brand-logo\" >Webpage</a>\n",
            "                <ul id=\"nav-mobile\" class=\"right hide-on-med-and-down\">\n",
            "                    <li><a href=\"sass.html\">Login</a></li>\n",
            "                    <li><a href=\"badges.html\">Sign Up</a></li>\n",
            "                    <li><a href=\"collapsible.html\">About</a></li>\n",
            "                </ul>\n",
            "            </div>\n",
            "        </nav>\n",
            "    </div>\n",
            "\n",
            "\n",
            "    <div class=\"slider\">\n",
            "        <ul class=\"slides\">\n",
            "          <li>\n",
            "            <img src=\"https://lorempixel.com/580/250/nature/1\"> <!-- random image -->\n",
            "              <div class=\"caption center-align\">\n",
            "                <h3 style=\"background-color:DodgerBlue\">This is our big Tagline!</h3>\n",
            "                <h5 class=\"light grey-text text-lighten-3\">Here's our small slogan.</h5>\n",
            "               </div>\n",
            "            \n",
            "          </li>\n",
            "          <li>\n",
            "            <img src=\"https://lorempixel.com/580/250/nature/2\"> <!-- random image -->\n",
            "             <div class=\"caption left-align\">\n",
            "                 <h3>Left Aligned Caption</h3>\n",
            "                 <h5 class=\"light grey-text text-lighten-3\">Here's our small slogan.</h5>\n",
            "             </div>\n",
            "          </li>\n",
            "          <li>\n",
            "            <img src=\"https://lorempixel.com/580/250/nature/3\"> <!-- random image -->\n",
            "             <div class=\"caption left-align\">\n",
            "                 <h3>Left Aligned Caption</h3>\n",
            "                 <h5 class=\"light grey-text text-lighten-3\">Here's our small slogan.</h5>\n",
            "             </div>\n",
            "          </li>\n",
            "          <li>\n",
            "            <img src=\"https://lorempixel.com/580/250/nature/4\"> <!-- random image -->\n",
            "            <div class=\"caption left-align\">\n",
            "                 <h3>Left Aligned Caption</h3>\n",
            "                 <h5 class=\"light grey-text text-lighten-3\">Here's our small slogan.</h5>\n",
            "             </div>\n",
            "          </li>\n",
            "        </ul>\n",
            "      </div>\n",
            "\n",
            "      <div style=\"width: 30%;\" class=\"card sticky-action\">\n",
            "        <div class=\"card-image waves-effect waves-block waves-light\">\n",
            "          <img style=\"height: 400px; width: 100%;\"  class=\"activator\" src=\"https://cdn.vox-cdn.com/thumbor/8tLchaDMIEDNzUD3mYQ7v1ZQL84=/0x0:2012x1341/920x613/filters:focal(0x0:2012x1341):format(webp)/cdn.vox-cdn.com/uploads/chorus_image/image/47070706/google2.0.0.jpg\">\n",
            "        </div>\n",
            "        <div class=\"card-action\">\n",
            "          <span class=\"card-title activator grey-text text-darken-4\">Card Title<i class=\"material-icons right\">more_vert</i></span>\n",
            "          <p><a href=\"#\">This is a link</a></p>\n",
            "        </div>\n",
            "        <div class=\"card-reveal\">\n",
            "          <span class=\"card-title grey-text text-darken-4\">Card Title<i class=\"material-icons right\">close</i></span>\n",
            "          <p>Here is some more information about this product that is only revealed once clicked on.</p>\n",
            "        </div>\n",
            "      </div>\n",
            "    \n",
            "    <script type=\"text/javascript\" src=\"js/materialize.min.js\"></script>\n",
            "    <script type=\"text/javascript\" src=\"js/home.js\"></script>\n",
            "    <script src=\"https://cdnjs.cloudflare.com/ajax/libs/materialize/1.0.0/js/materialize.min.js\"></script>\n",
            "</body>\n",
            "</html>\n"
          ]
        }
      ]
    },
    {
      "cell_type": "code",
      "source": [
        "soup = BeautifulSoup(content, 'lxml')\n",
        "print(soup.prettify())"
      ],
      "metadata": {
        "colab": {
          "base_uri": "https://localhost:8080/"
        },
        "id": "SqVmKRvaLgsB",
        "outputId": "7d3a5d91-c93d-4022-af6c-5b9d96fd9818"
      },
      "execution_count": 7,
      "outputs": [
        {
          "output_type": "stream",
          "name": "stdout",
          "text": [
            "<!DOCTYPE html>\n",
            "<html lang=\"en\">\n",
            " <head>\n",
            "  <title>\n",
            "   home page\n",
            "  </title>\n",
            "  <!--Import Google Icon Font-->\n",
            "  <link href=\"https://fonts.googleapis.com/icon?family=Material+Icons\" rel=\"stylesheet\"/>\n",
            "  <!--Import materialize.css-->\n",
            "  <link href=\"css/materialize.min.css\" media=\"screen,projection\" rel=\"stylesheet\" type=\"text/css\"/>\n",
            "  <!--Let browser know website is optimized for mobile-->\n",
            "  <meta content=\"width=device-width, initial-scale=1.0\" name=\"viewport\"/>\n",
            "  <link href=\"https://cdnjs.cloudflare.com/ajax/libs/materialize/1.0.0/css/materialize.min.css\" rel=\"stylesheet\"/>\n",
            " </head>\n",
            " <body>\n",
            "  <h3>\n",
            "   This is for the Web Technology Lab Credit Course for College.\n",
            "  </h3>\n",
            "  <h4>\n",
            "   This is for data structure lab credit course .\n",
            "  </h4>\n",
            "  <div class=\"navbar\">\n",
            "   <nav>\n",
            "    <div class=\"nav-wrapper black\">\n",
            "     <img class=\"circle responsive-img\" src=\"https://cdn.vox-cdn.com/thumbor/8tLchaDMIEDNzUD3mYQ7v1ZQL84=/0x0:2012x1341/920x613/filters:focal(0x0:2012x1341):format(webp)/cdn.vox-cdn.com/uploads/chorus_image/image/47070706/google2.0.0.jpg\" style=\"height: inherit; width: inherit;\"/>\n",
            "     <a class=\"brand-logo\" href=\"#\">\n",
            "      Webpage\n",
            "     </a>\n",
            "     <ul class=\"right hide-on-med-and-down\" id=\"nav-mobile\">\n",
            "      <li>\n",
            "       <a href=\"sass.html\">\n",
            "        Login\n",
            "       </a>\n",
            "      </li>\n",
            "      <li>\n",
            "       <a href=\"badges.html\">\n",
            "        Sign Up\n",
            "       </a>\n",
            "      </li>\n",
            "      <li>\n",
            "       <a href=\"collapsible.html\">\n",
            "        About\n",
            "       </a>\n",
            "      </li>\n",
            "     </ul>\n",
            "    </div>\n",
            "   </nav>\n",
            "  </div>\n",
            "  <div class=\"slider\">\n",
            "   <ul class=\"slides\">\n",
            "    <li>\n",
            "     <img src=\"https://lorempixel.com/580/250/nature/1\"/>\n",
            "     <!-- random image -->\n",
            "     <div class=\"caption center-align\">\n",
            "      <h3 style=\"background-color:DodgerBlue\">\n",
            "       This is our big Tagline!\n",
            "      </h3>\n",
            "      <h5 class=\"light grey-text text-lighten-3\">\n",
            "       Here's our small slogan.\n",
            "      </h5>\n",
            "     </div>\n",
            "    </li>\n",
            "    <li>\n",
            "     <img src=\"https://lorempixel.com/580/250/nature/2\"/>\n",
            "     <!-- random image -->\n",
            "     <div class=\"caption left-align\">\n",
            "      <h3>\n",
            "       Left Aligned Caption\n",
            "      </h3>\n",
            "      <h5 class=\"light grey-text text-lighten-3\">\n",
            "       Here's our small slogan.\n",
            "      </h5>\n",
            "     </div>\n",
            "    </li>\n",
            "    <li>\n",
            "     <img src=\"https://lorempixel.com/580/250/nature/3\"/>\n",
            "     <!-- random image -->\n",
            "     <div class=\"caption left-align\">\n",
            "      <h3>\n",
            "       Left Aligned Caption\n",
            "      </h3>\n",
            "      <h5 class=\"light grey-text text-lighten-3\">\n",
            "       Here's our small slogan.\n",
            "      </h5>\n",
            "     </div>\n",
            "    </li>\n",
            "    <li>\n",
            "     <img src=\"https://lorempixel.com/580/250/nature/4\"/>\n",
            "     <!-- random image -->\n",
            "     <div class=\"caption left-align\">\n",
            "      <h3>\n",
            "       Left Aligned Caption\n",
            "      </h3>\n",
            "      <h5 class=\"light grey-text text-lighten-3\">\n",
            "       Here's our small slogan.\n",
            "      </h5>\n",
            "     </div>\n",
            "    </li>\n",
            "   </ul>\n",
            "  </div>\n",
            "  <div class=\"card sticky-action\" style=\"width: 30%;\">\n",
            "   <div class=\"card-image waves-effect waves-block waves-light\">\n",
            "    <img class=\"activator\" src=\"https://cdn.vox-cdn.com/thumbor/8tLchaDMIEDNzUD3mYQ7v1ZQL84=/0x0:2012x1341/920x613/filters:focal(0x0:2012x1341):format(webp)/cdn.vox-cdn.com/uploads/chorus_image/image/47070706/google2.0.0.jpg\" style=\"height: 400px; width: 100%;\"/>\n",
            "   </div>\n",
            "   <div class=\"card-action\">\n",
            "    <span class=\"card-title activator grey-text text-darken-4\">\n",
            "     Card Title\n",
            "     <i class=\"material-icons right\">\n",
            "      more_vert\n",
            "     </i>\n",
            "    </span>\n",
            "    <p>\n",
            "     <a href=\"#\">\n",
            "      This is a link\n",
            "     </a>\n",
            "    </p>\n",
            "   </div>\n",
            "   <div class=\"card-reveal\">\n",
            "    <span class=\"card-title grey-text text-darken-4\">\n",
            "     Card Title\n",
            "     <i class=\"material-icons right\">\n",
            "      close\n",
            "     </i>\n",
            "    </span>\n",
            "    <p>\n",
            "     Here is some more information about this product that is only revealed once clicked on.\n",
            "    </p>\n",
            "   </div>\n",
            "  </div>\n",
            "  <script src=\"js/materialize.min.js\" type=\"text/javascript\">\n",
            "  </script>\n",
            "  <script src=\"js/home.js\" type=\"text/javascript\">\n",
            "  </script>\n",
            "  <script src=\"https://cdnjs.cloudflare.com/ajax/libs/materialize/1.0.0/js/materialize.min.js\">\n",
            "  </script>\n",
            " </body>\n",
            "</html>\n"
          ]
        }
      ]
    },
    {
      "cell_type": "code",
      "source": [
        "tag = soup.find('h5')\n",
        "tag"
      ],
      "metadata": {
        "colab": {
          "base_uri": "https://localhost:8080/"
        },
        "id": "wd3B6eCUNpKw",
        "outputId": "7f461945-8192-4c1f-f7ec-7f9d42fb85df"
      },
      "execution_count": 12,
      "outputs": [
        {
          "output_type": "execute_result",
          "data": {
            "text/plain": [
              "<h5 class=\"light grey-text text-lighten-3\">Here's our small slogan.</h5>"
            ]
          },
          "metadata": {},
          "execution_count": 12
        }
      ]
    },
    {
      "cell_type": "code",
      "source": [
        "tags = soup.find_all('h5')\n",
        "tags"
      ],
      "metadata": {
        "colab": {
          "base_uri": "https://localhost:8080/"
        },
        "id": "wLU5-hSVO-sg",
        "outputId": "410e2deb-836a-4647-f01c-a6a76f041065"
      },
      "execution_count": 13,
      "outputs": [
        {
          "output_type": "execute_result",
          "data": {
            "text/plain": [
              "[<h5 class=\"light grey-text text-lighten-3\">Here's our small slogan.</h5>,\n",
              " <h5 class=\"light grey-text text-lighten-3\">Here's our small slogan.</h5>,\n",
              " <h5 class=\"light grey-text text-lighten-3\">Here's our small slogan.</h5>,\n",
              " <h5 class=\"light grey-text text-lighten-3\">Here's our small slogan.</h5>]"
            ]
          },
          "metadata": {},
          "execution_count": 13
        }
      ]
    },
    {
      "cell_type": "code",
      "source": [
        "for t in tags:\n",
        "  print(t.text)"
      ],
      "metadata": {
        "colab": {
          "base_uri": "https://localhost:8080/"
        },
        "id": "YssNjB0rPLyP",
        "outputId": "9c7f669a-6173-4509-f341-36884c442a8b"
      },
      "execution_count": 14,
      "outputs": [
        {
          "output_type": "stream",
          "name": "stdout",
          "text": [
            "Here's our small slogan.\n",
            "Here's our small slogan.\n",
            "Here's our small slogan.\n",
            "Here's our small slogan.\n"
          ]
        }
      ]
    },
    {
      "cell_type": "code",
      "source": [
        "cards = soup.find_all('div', class_ = \"card\")"
      ],
      "metadata": {
        "id": "2m3bZ1AOP5MA"
      },
      "execution_count": 15,
      "outputs": []
    },
    {
      "cell_type": "code",
      "source": [
        "cards"
      ],
      "metadata": {
        "colab": {
          "base_uri": "https://localhost:8080/"
        },
        "id": "wrUdJ5U4ShAH",
        "outputId": "73fbfff4-3125-422d-ec04-3e57e77be44e"
      },
      "execution_count": 16,
      "outputs": [
        {
          "output_type": "execute_result",
          "data": {
            "text/plain": [
              "[<div class=\"card sticky-action\" style=\"width: 30%;\">\n",
              " <div class=\"card-image waves-effect waves-block waves-light\">\n",
              " <img class=\"activator\" src=\"https://cdn.vox-cdn.com/thumbor/8tLchaDMIEDNzUD3mYQ7v1ZQL84=/0x0:2012x1341/920x613/filters:focal(0x0:2012x1341):format(webp)/cdn.vox-cdn.com/uploads/chorus_image/image/47070706/google2.0.0.jpg\" style=\"height: 400px; width: 100%;\"/>\n",
              " </div>\n",
              " <div class=\"card-action\">\n",
              " <span class=\"card-title activator grey-text text-darken-4\">Card Title<i class=\"material-icons right\">more_vert</i></span>\n",
              " <p><a href=\"#\">This is a link</a></p>\n",
              " </div>\n",
              " <div class=\"card-reveal\">\n",
              " <span class=\"card-title grey-text text-darken-4\">Card Title<i class=\"material-icons right\">close</i></span>\n",
              " <p>Here is some more information about this product that is only revealed once clicked on.</p>\n",
              " </div>\n",
              " </div>]"
            ]
          },
          "metadata": {},
          "execution_count": 16
        }
      ]
    },
    {
      "cell_type": "code",
      "source": [
        "for card in cards:\n",
        "  card_i = card.text\n",
        "  card_a = card.a.text\n",
        "  print(f'{card_i} links {card_a}')"
      ],
      "metadata": {
        "colab": {
          "base_uri": "https://localhost:8080/"
        },
        "id": "PC9sidbrSZ-n",
        "outputId": "6d3b443b-2f74-4555-a22c-4e00e616dcaa"
      },
      "execution_count": 21,
      "outputs": [
        {
          "output_type": "stream",
          "name": "stdout",
          "text": [
            "\n",
            "\n",
            "\n",
            "\n",
            "\n",
            "Card Titlemore_vert\n",
            "This is a link\n",
            "\n",
            "\n",
            "Card Titleclose\n",
            "Here is some more information about this product that is only revealed once clicked on.\n",
            "\n",
            " links This is a link\n"
          ]
        }
      ]
    },
    {
      "cell_type": "markdown",
      "source": [
        "### Scrapping a real website"
      ],
      "metadata": {
        "id": "FQ5XDHSRUOGw"
      }
    },
    {
      "cell_type": "code",
      "source": [
        "import requests"
      ],
      "metadata": {
        "id": "-V7dYz4zSs4H"
      },
      "execution_count": 22,
      "outputs": []
    },
    {
      "cell_type": "code",
      "source": [
        "html_text = requests.get(\"https://www.timesjobs.com/candidate/job-search.html?searchType=personalizedSearch&from=submit&txtKeywords=Python&txtLocation=\")"
      ],
      "metadata": {
        "id": "fR1pUD3yUzh_"
      },
      "execution_count": 23,
      "outputs": []
    },
    {
      "cell_type": "code",
      "source": [
        "print(html_text)"
      ],
      "metadata": {
        "colab": {
          "base_uri": "https://localhost:8080/"
        },
        "id": "bMS92uYAV8ZH",
        "outputId": "c6a2e3f5-b422-464c-dd00-975c952cdda3"
      },
      "execution_count": 24,
      "outputs": [
        {
          "output_type": "stream",
          "name": "stdout",
          "text": [
            "<Response [200]>\n"
          ]
        }
      ]
    },
    {
      "cell_type": "code",
      "source": [
        "html_text = requests.get(\"https://www.timesjobs.com/candidate/job-search.html?searchType=personalizedSearch&from=submit&txtKeywords=Python&txtLocation=\").text"
      ],
      "metadata": {
        "id": "xwKyo5iJV-oP"
      },
      "execution_count": 25,
      "outputs": []
    },
    {
      "cell_type": "code",
      "source": [
        "print(html_text)"
      ],
      "metadata": {
        "id": "prpnMIoBXenv"
      },
      "execution_count": null,
      "outputs": []
    },
    {
      "cell_type": "code",
      "source": [
        "soup = BeautifulSoup(html_text,\"lxml\")"
      ],
      "metadata": {
        "id": "2qY-rBqCaDJ_"
      },
      "execution_count": 29,
      "outputs": []
    },
    {
      "cell_type": "code",
      "source": [
        "jobs = soup.find_all('li',class_ = \"clearfix job-bx wht-shd-bx\")"
      ],
      "metadata": {
        "id": "9pM_p6WiXgyH"
      },
      "execution_count": 30,
      "outputs": []
    },
    {
      "cell_type": "code",
      "source": [
        "jobs\n"
      ],
      "metadata": {
        "id": "LbU3oPAWZ7sG"
      },
      "execution_count": null,
      "outputs": []
    },
    {
      "cell_type": "code",
      "source": [
        "company_name = []\n",
        "for i in jobs:\n",
        "  x = i.find('h3',class_ = \"joblist-comp-name\").text.replace(\" \",'')\n",
        "  company_name.append(x)"
      ],
      "metadata": {
        "id": "7Xvvx8P8aAEO"
      },
      "execution_count": 41,
      "outputs": []
    },
    {
      "cell_type": "code",
      "source": [
        "company_name"
      ],
      "metadata": {
        "colab": {
          "base_uri": "https://localhost:8080/"
        },
        "id": "VGdOQj3bcvYm",
        "outputId": "e944b709-575b-4577-8dba-dc67a1064d36"
      },
      "execution_count": 42,
      "outputs": [
        {
          "output_type": "execute_result",
          "data": {
            "text/plain": [
              "['\\r\\nSuryaInformaticsSolutionsPvt.Ltd.\\r\\n\\r\\n',\n",
              " '\\r\\nTadvidInfoTechnologies\\r\\n(MoreJobs)\\n',\n",
              " '\\r\\nPerfiosSoftware\\r\\n\\r\\n',\n",
              " '\\r\\nTriadssTechSolutions\\r\\n\\r\\n',\n",
              " '\\r\\nIvanInfotechPvt.Ltd.\\r\\n\\r\\n',\n",
              " '\\r\\nTandAHRSolutions\\r\\n\\r\\n',\n",
              " '\\r\\nDatagridSolutions\\r\\n\\r\\n',\n",
              " '\\r\\neastindiasecuritiesltd.\\r\\n\\r\\n',\n",
              " '\\r\\nappypie\\r\\n\\r\\n',\n",
              " '\\r\\nJobsLoConsultants\\r\\n\\r\\n',\n",
              " '\\r\\nsjainventures\\r\\n\\r\\n',\n",
              " '\\r\\nAPPLYCUPHIRINGSOLUTIONSLLP\\r\\n\\r\\n',\n",
              " '\\r\\narttechnologyandsoftwareindiapvtltd\\r\\n\\r\\n',\n",
              " '\\r\\nTandAHRSolutions\\r\\n\\r\\n',\n",
              " '\\r\\nyoungmindstechnologysolutionspvtltd\\r\\n\\r\\n',\n",
              " '\\r\\nsystango\\r\\n\\r\\n',\n",
              " '\\r\\nCONNECTING2WORK\\r\\n\\r\\n',\n",
              " '\\r\\nonsinteractivesolutionspvtltd\\r\\n\\r\\n',\n",
              " '\\r\\nAPPLYCUPHIRINGSOLUTIONSLLP\\r\\n\\r\\n',\n",
              " '\\r\\nNineleaps\\r\\n\\r\\n',\n",
              " '\\r\\nday1technologies\\r\\n\\r\\n',\n",
              " '\\r\\npofitechnologiespvtltd.\\r\\n\\r\\n',\n",
              " '\\r\\nAPPLYCUPHIRINGSOLUTIONSLLP\\r\\n\\r\\n',\n",
              " '\\r\\nAPPLYCUPHIRINGSOLUTIONSLLP\\r\\n\\r\\n',\n",
              " '\\r\\nAnanthaCyberTechPvtLimited\\r\\n\\r\\n']"
            ]
          },
          "metadata": {},
          "execution_count": 42
        }
      ]
    },
    {
      "cell_type": "code",
      "source": [
        "[print(i) for i in company_name]"
      ],
      "metadata": {
        "colab": {
          "base_uri": "https://localhost:8080/"
        },
        "id": "TFtzlkGVcBgP",
        "outputId": "41d3ab6a-acbb-46b7-d760-0b79be56d155"
      },
      "execution_count": 43,
      "outputs": [
        {
          "output_type": "stream",
          "name": "stdout",
          "text": [
            "\r\n",
            "SuryaInformaticsSolutionsPvt.Ltd.\r\n",
            "\r\n",
            "\n",
            "\r\n",
            "TadvidInfoTechnologies\r\n",
            "(MoreJobs)\n",
            "\n",
            "\r\n",
            "PerfiosSoftware\r\n",
            "\r\n",
            "\n",
            "\r\n",
            "TriadssTechSolutions\r\n",
            "\r\n",
            "\n",
            "\r\n",
            "IvanInfotechPvt.Ltd.\r\n",
            "\r\n",
            "\n",
            "\r\n",
            "TandAHRSolutions\r\n",
            "\r\n",
            "\n",
            "\r\n",
            "DatagridSolutions\r\n",
            "\r\n",
            "\n",
            "\r\n",
            "eastindiasecuritiesltd.\r\n",
            "\r\n",
            "\n",
            "\r\n",
            "appypie\r\n",
            "\r\n",
            "\n",
            "\r\n",
            "JobsLoConsultants\r\n",
            "\r\n",
            "\n",
            "\r\n",
            "sjainventures\r\n",
            "\r\n",
            "\n",
            "\r\n",
            "APPLYCUPHIRINGSOLUTIONSLLP\r\n",
            "\r\n",
            "\n",
            "\r\n",
            "arttechnologyandsoftwareindiapvtltd\r\n",
            "\r\n",
            "\n",
            "\r\n",
            "TandAHRSolutions\r\n",
            "\r\n",
            "\n",
            "\r\n",
            "youngmindstechnologysolutionspvtltd\r\n",
            "\r\n",
            "\n",
            "\r\n",
            "systango\r\n",
            "\r\n",
            "\n",
            "\r\n",
            "CONNECTING2WORK\r\n",
            "\r\n",
            "\n",
            "\r\n",
            "onsinteractivesolutionspvtltd\r\n",
            "\r\n",
            "\n",
            "\r\n",
            "APPLYCUPHIRINGSOLUTIONSLLP\r\n",
            "\r\n",
            "\n",
            "\r\n",
            "Nineleaps\r\n",
            "\r\n",
            "\n",
            "\r\n",
            "day1technologies\r\n",
            "\r\n",
            "\n",
            "\r\n",
            "pofitechnologiespvtltd.\r\n",
            "\r\n",
            "\n",
            "\r\n",
            "APPLYCUPHIRINGSOLUTIONSLLP\r\n",
            "\r\n",
            "\n",
            "\r\n",
            "APPLYCUPHIRINGSOLUTIONSLLP\r\n",
            "\r\n",
            "\n",
            "\r\n",
            "AnanthaCyberTechPvtLimited\r\n",
            "\r\n",
            "\n"
          ]
        },
        {
          "output_type": "execute_result",
          "data": {
            "text/plain": [
              "[None,\n",
              " None,\n",
              " None,\n",
              " None,\n",
              " None,\n",
              " None,\n",
              " None,\n",
              " None,\n",
              " None,\n",
              " None,\n",
              " None,\n",
              " None,\n",
              " None,\n",
              " None,\n",
              " None,\n",
              " None,\n",
              " None,\n",
              " None,\n",
              " None,\n",
              " None,\n",
              " None,\n",
              " None,\n",
              " None,\n",
              " None,\n",
              " None]"
            ]
          },
          "metadata": {},
          "execution_count": 43
        }
      ]
    },
    {
      "cell_type": "code",
      "source": [],
      "metadata": {
        "id": "LWUdWuj2cJC-"
      },
      "execution_count": null,
      "outputs": []
    }
  ]
}