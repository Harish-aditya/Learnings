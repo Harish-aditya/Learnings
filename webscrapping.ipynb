{
  "cells": [
    {
      "cell_type": "markdown",
      "metadata": {
        "colab_type": "text",
        "id": "view-in-github"
      },
      "source": [
        "<a href=\"https://colab.research.google.com/github/Harish-aditya/Learnings/blob/main/webscrapping.ipynb\" target=\"_parent\"><img src=\"https://colab.research.google.com/assets/colab-badge.svg\" alt=\"Open In Colab\"/></a>"
      ]
    },
    {
      "cell_type": "code",
      "execution_count": 1,
      "metadata": {
        "id": "MzqmNRDPJHfn"
      },
      "outputs": [],
      "source": [
        "from bs4 import BeautifulSoup\n",
        "import lxml"
      ]
    },
    {
      "cell_type": "code",
      "execution_count": 2,
      "metadata": {
        "colab": {
          "base_uri": "https://localhost:8080/"
        },
        "id": "N4d5W3WdJX3i",
        "outputId": "3645c1d8-beb5-43d3-bf85-548fc7d74be8"
      },
      "outputs": [
        {
          "name": "stdout",
          "output_type": "stream",
          "text": [
            "<!DOCTYPE html>\n",
            "<html lang=\"en\">\n",
            "<head>\n",
            "    <title>home page</title>\n",
            "    <!--Import Google Icon Font-->\n",
            "    <link href=\"https://fonts.googleapis.com/icon?family=Material+Icons\" rel=\"stylesheet\">\n",
            "    <!--Import materialize.css-->\n",
            "    <link type=\"text/css\" rel=\"stylesheet\" href=\"css/materialize.min.css\"  media=\"screen,projection\"/>\n",
            "\n",
            "    <!--Let browser know website is optimized for mobile-->\n",
            "    <meta name=\"viewport\" content=\"width=device-width, initial-scale=1.0\"/>\n",
            "    <link rel=\"stylesheet\" href=\"https://cdnjs.cloudflare.com/ajax/libs/materialize/1.0.0/css/materialize.min.css\">\n",
            "    \n",
            "</head>\n",
            "<body>\n",
            "    \n",
            "    <h3> This is for the Web Technology Lab Credit Course for College.</h3>\n",
            "    <h4> This is for data structure lab credit course .</h4>\n",
            "    <div class=\"navbar\">\n",
            "        <nav>\n",
            "            <div class=\"nav-wrapper black\" >\n",
            "                    <img style=\"height: inherit; width: inherit;\" class=\"circle responsive-img\" src=\"https://cdn.vox-cdn.com/thumbor/8tLchaDMIEDNzUD3mYQ7v1ZQL84=/0x0:2012x1341/920x613/filters:focal(0x0:2012x1341):format(webp)/cdn.vox-cdn.com/uploads/chorus_image/image/47070706/google2.0.0.jpg\">\n",
            "                &nbsp;<a href=\"#\" class=\"brand-logo\" >Webpage</a>\n",
            "                <ul id=\"nav-mobile\" class=\"right hide-on-med-and-down\">\n",
            "                    <li><a href=\"sass.html\">Login</a></li>\n",
            "                    <li><a href=\"badges.html\">Sign Up</a></li>\n",
            "                    <li><a href=\"collapsible.html\">About</a></li>\n",
            "                </ul>\n",
            "            </div>\n",
            "        </nav>\n",
            "    </div>\n",
            "\n",
            "\n",
            "    <div class=\"slider\">\n",
            "        <ul class=\"slides\">\n",
            "          <li>\n",
            "            <img src=\"https://lorempixel.com/580/250/nature/1\"> <!-- random image -->\n",
            "              <div class=\"caption center-align\">\n",
            "                <h3 style=\"background-color:DodgerBlue\">This is our big Tagline!</h3>\n",
            "                <h5 class=\"light grey-text text-lighten-3\">Here's our small slogan.</h5>\n",
            "               </div>\n",
            "            \n",
            "          </li>\n",
            "          <li>\n",
            "            <img src=\"https://lorempixel.com/580/250/nature/2\"> <!-- random image -->\n",
            "             <div class=\"caption left-align\">\n",
            "                 <h3>Left Aligned Caption</h3>\n",
            "                 <h5 class=\"light grey-text text-lighten-3\">Here's our small slogan.</h5>\n",
            "             </div>\n",
            "          </li>\n",
            "          <li>\n",
            "            <img src=\"https://lorempixel.com/580/250/nature/3\"> <!-- random image -->\n",
            "             <div class=\"caption left-align\">\n",
            "                 <h3>Left Aligned Caption</h3>\n",
            "                 <h5 class=\"light grey-text text-lighten-3\">Here's our small slogan.</h5>\n",
            "             </div>\n",
            "          </li>\n",
            "          <li>\n",
            "            <img src=\"https://lorempixel.com/580/250/nature/4\"> <!-- random image -->\n",
            "            <div class=\"caption left-align\">\n",
            "                 <h3>Left Aligned Caption</h3>\n",
            "                 <h5 class=\"light grey-text text-lighten-3\">Here's our small slogan.</h5>\n",
            "             </div>\n",
            "          </li>\n",
            "        </ul>\n",
            "      </div>\n",
            "\n",
            "      <div style=\"width: 30%;\" class=\"card sticky-action\">\n",
            "        <div class=\"card-image waves-effect waves-block waves-light\">\n",
            "          <img style=\"height: 400px; width: 100%;\"  class=\"activator\" src=\"https://cdn.vox-cdn.com/thumbor/8tLchaDMIEDNzUD3mYQ7v1ZQL84=/0x0:2012x1341/920x613/filters:focal(0x0:2012x1341):format(webp)/cdn.vox-cdn.com/uploads/chorus_image/image/47070706/google2.0.0.jpg\">\n",
            "        </div>\n",
            "        <div class=\"card-action\">\n",
            "          <span class=\"card-title activator grey-text text-darken-4\">Card Title<i class=\"material-icons right\">more_vert</i></span>\n",
            "          <p><a href=\"#\">This is a link</a></p>\n",
            "        </div>\n",
            "        <div class=\"card-reveal\">\n",
            "          <span class=\"card-title grey-text text-darken-4\">Card Title<i class=\"material-icons right\">close</i></span>\n",
            "          <p>Here is some more information about this product that is only revealed once clicked on.</p>\n",
            "        </div>\n",
            "      </div>\n",
            "    \n",
            "    <script type=\"text/javascript\" src=\"js/materialize.min.js\"></script>\n",
            "    <script type=\"text/javascript\" src=\"js/home.js\"></script>\n",
            "    <script src=\"https://cdnjs.cloudflare.com/ajax/libs/materialize/1.0.0/js/materialize.min.js\"></script>\n",
            "</body>\n",
            "</html>\n"
          ]
        }
      ],
      "source": [
        "with open(\"/content/home.html.txt\",'r') as html_file:\n",
        "  content = html_file.read()\n",
        "  print(content)"
      ]
    },
    {
      "cell_type": "code",
      "execution_count": 3,
      "metadata": {
        "colab": {
          "base_uri": "https://localhost:8080/"
        },
        "id": "SqVmKRvaLgsB",
        "outputId": "3e226d70-4bf1-4a51-f54a-afe4859d4182"
      },
      "outputs": [
        {
          "name": "stdout",
          "output_type": "stream",
          "text": [
            "<!DOCTYPE html>\n",
            "<html lang=\"en\">\n",
            " <head>\n",
            "  <title>\n",
            "   home page\n",
            "  </title>\n",
            "  <!--Import Google Icon Font-->\n",
            "  <link href=\"https://fonts.googleapis.com/icon?family=Material+Icons\" rel=\"stylesheet\"/>\n",
            "  <!--Import materialize.css-->\n",
            "  <link href=\"css/materialize.min.css\" media=\"screen,projection\" rel=\"stylesheet\" type=\"text/css\"/>\n",
            "  <!--Let browser know website is optimized for mobile-->\n",
            "  <meta content=\"width=device-width, initial-scale=1.0\" name=\"viewport\"/>\n",
            "  <link href=\"https://cdnjs.cloudflare.com/ajax/libs/materialize/1.0.0/css/materialize.min.css\" rel=\"stylesheet\"/>\n",
            " </head>\n",
            " <body>\n",
            "  <h3>\n",
            "   This is for the Web Technology Lab Credit Course for College.\n",
            "  </h3>\n",
            "  <h4>\n",
            "   This is for data structure lab credit course .\n",
            "  </h4>\n",
            "  <div class=\"navbar\">\n",
            "   <nav>\n",
            "    <div class=\"nav-wrapper black\">\n",
            "     <img class=\"circle responsive-img\" src=\"https://cdn.vox-cdn.com/thumbor/8tLchaDMIEDNzUD3mYQ7v1ZQL84=/0x0:2012x1341/920x613/filters:focal(0x0:2012x1341):format(webp)/cdn.vox-cdn.com/uploads/chorus_image/image/47070706/google2.0.0.jpg\" style=\"height: inherit; width: inherit;\"/>\n",
            "     <a class=\"brand-logo\" href=\"#\">\n",
            "      Webpage\n",
            "     </a>\n",
            "     <ul class=\"right hide-on-med-and-down\" id=\"nav-mobile\">\n",
            "      <li>\n",
            "       <a href=\"sass.html\">\n",
            "        Login\n",
            "       </a>\n",
            "      </li>\n",
            "      <li>\n",
            "       <a href=\"badges.html\">\n",
            "        Sign Up\n",
            "       </a>\n",
            "      </li>\n",
            "      <li>\n",
            "       <a href=\"collapsible.html\">\n",
            "        About\n",
            "       </a>\n",
            "      </li>\n",
            "     </ul>\n",
            "    </div>\n",
            "   </nav>\n",
            "  </div>\n",
            "  <div class=\"slider\">\n",
            "   <ul class=\"slides\">\n",
            "    <li>\n",
            "     <img src=\"https://lorempixel.com/580/250/nature/1\"/>\n",
            "     <!-- random image -->\n",
            "     <div class=\"caption center-align\">\n",
            "      <h3 style=\"background-color:DodgerBlue\">\n",
            "       This is our big Tagline!\n",
            "      </h3>\n",
            "      <h5 class=\"light grey-text text-lighten-3\">\n",
            "       Here's our small slogan.\n",
            "      </h5>\n",
            "     </div>\n",
            "    </li>\n",
            "    <li>\n",
            "     <img src=\"https://lorempixel.com/580/250/nature/2\"/>\n",
            "     <!-- random image -->\n",
            "     <div class=\"caption left-align\">\n",
            "      <h3>\n",
            "       Left Aligned Caption\n",
            "      </h3>\n",
            "      <h5 class=\"light grey-text text-lighten-3\">\n",
            "       Here's our small slogan.\n",
            "      </h5>\n",
            "     </div>\n",
            "    </li>\n",
            "    <li>\n",
            "     <img src=\"https://lorempixel.com/580/250/nature/3\"/>\n",
            "     <!-- random image -->\n",
            "     <div class=\"caption left-align\">\n",
            "      <h3>\n",
            "       Left Aligned Caption\n",
            "      </h3>\n",
            "      <h5 class=\"light grey-text text-lighten-3\">\n",
            "       Here's our small slogan.\n",
            "      </h5>\n",
            "     </div>\n",
            "    </li>\n",
            "    <li>\n",
            "     <img src=\"https://lorempixel.com/580/250/nature/4\"/>\n",
            "     <!-- random image -->\n",
            "     <div class=\"caption left-align\">\n",
            "      <h3>\n",
            "       Left Aligned Caption\n",
            "      </h3>\n",
            "      <h5 class=\"light grey-text text-lighten-3\">\n",
            "       Here's our small slogan.\n",
            "      </h5>\n",
            "     </div>\n",
            "    </li>\n",
            "   </ul>\n",
            "  </div>\n",
            "  <div class=\"card sticky-action\" style=\"width: 30%;\">\n",
            "   <div class=\"card-image waves-effect waves-block waves-light\">\n",
            "    <img class=\"activator\" src=\"https://cdn.vox-cdn.com/thumbor/8tLchaDMIEDNzUD3mYQ7v1ZQL84=/0x0:2012x1341/920x613/filters:focal(0x0:2012x1341):format(webp)/cdn.vox-cdn.com/uploads/chorus_image/image/47070706/google2.0.0.jpg\" style=\"height: 400px; width: 100%;\"/>\n",
            "   </div>\n",
            "   <div class=\"card-action\">\n",
            "    <span class=\"card-title activator grey-text text-darken-4\">\n",
            "     Card Title\n",
            "     <i class=\"material-icons right\">\n",
            "      more_vert\n",
            "     </i>\n",
            "    </span>\n",
            "    <p>\n",
            "     <a href=\"#\">\n",
            "      This is a link\n",
            "     </a>\n",
            "    </p>\n",
            "   </div>\n",
            "   <div class=\"card-reveal\">\n",
            "    <span class=\"card-title grey-text text-darken-4\">\n",
            "     Card Title\n",
            "     <i class=\"material-icons right\">\n",
            "      close\n",
            "     </i>\n",
            "    </span>\n",
            "    <p>\n",
            "     Here is some more information about this product that is only revealed once clicked on.\n",
            "    </p>\n",
            "   </div>\n",
            "  </div>\n",
            "  <script src=\"js/materialize.min.js\" type=\"text/javascript\">\n",
            "  </script>\n",
            "  <script src=\"js/home.js\" type=\"text/javascript\">\n",
            "  </script>\n",
            "  <script src=\"https://cdnjs.cloudflare.com/ajax/libs/materialize/1.0.0/js/materialize.min.js\">\n",
            "  </script>\n",
            " </body>\n",
            "</html>\n"
          ]
        }
      ],
      "source": [
        "soup = BeautifulSoup(content, 'lxml')\n",
        "print(soup.prettify())"
      ]
    },
    {
      "cell_type": "code",
      "execution_count": 4,
      "metadata": {
        "colab": {
          "base_uri": "https://localhost:8080/"
        },
        "id": "wd3B6eCUNpKw",
        "outputId": "e8339089-9117-4365-9901-9f3160989c83"
      },
      "outputs": [
        {
          "data": {
            "text/plain": [
              "<h5 class=\"light grey-text text-lighten-3\">Here's our small slogan.</h5>"
            ]
          },
          "execution_count": 4,
          "metadata": {},
          "output_type": "execute_result"
        }
      ],
      "source": [
        "tag = soup.find('h5')\n",
        "tag"
      ]
    },
    {
      "cell_type": "code",
      "execution_count": 5,
      "metadata": {
        "colab": {
          "base_uri": "https://localhost:8080/"
        },
        "id": "wLU5-hSVO-sg",
        "outputId": "d896280b-456a-49ab-d6e1-5a1290e98722"
      },
      "outputs": [
        {
          "data": {
            "text/plain": [
              "[<h5 class=\"light grey-text text-lighten-3\">Here's our small slogan.</h5>,\n",
              " <h5 class=\"light grey-text text-lighten-3\">Here's our small slogan.</h5>,\n",
              " <h5 class=\"light grey-text text-lighten-3\">Here's our small slogan.</h5>,\n",
              " <h5 class=\"light grey-text text-lighten-3\">Here's our small slogan.</h5>]"
            ]
          },
          "execution_count": 5,
          "metadata": {},
          "output_type": "execute_result"
        }
      ],
      "source": [
        "tags = soup.find_all('h5')\n",
        "tags"
      ]
    },
    {
      "cell_type": "code",
      "execution_count": 6,
      "metadata": {
        "colab": {
          "base_uri": "https://localhost:8080/"
        },
        "id": "YssNjB0rPLyP",
        "outputId": "53bc2959-ac78-4f30-eab6-411ded63b331"
      },
      "outputs": [
        {
          "name": "stdout",
          "output_type": "stream",
          "text": [
            "Here's our small slogan.\n",
            "Here's our small slogan.\n",
            "Here's our small slogan.\n",
            "Here's our small slogan.\n"
          ]
        }
      ],
      "source": [
        "for t in tags:\n",
        "  print(t.text)"
      ]
    },
    {
      "cell_type": "code",
      "execution_count": 7,
      "metadata": {
        "id": "2m3bZ1AOP5MA"
      },
      "outputs": [],
      "source": [
        "cards = soup.find_all('div', class_ = \"card\")"
      ]
    },
    {
      "cell_type": "code",
      "execution_count": 8,
      "metadata": {
        "colab": {
          "base_uri": "https://localhost:8080/"
        },
        "id": "wrUdJ5U4ShAH",
        "outputId": "cd98030c-760b-429f-f18b-4eef6c34b14c"
      },
      "outputs": [
        {
          "data": {
            "text/plain": [
              "[<div class=\"card sticky-action\" style=\"width: 30%;\">\n",
              " <div class=\"card-image waves-effect waves-block waves-light\">\n",
              " <img class=\"activator\" src=\"https://cdn.vox-cdn.com/thumbor/8tLchaDMIEDNzUD3mYQ7v1ZQL84=/0x0:2012x1341/920x613/filters:focal(0x0:2012x1341):format(webp)/cdn.vox-cdn.com/uploads/chorus_image/image/47070706/google2.0.0.jpg\" style=\"height: 400px; width: 100%;\"/>\n",
              " </div>\n",
              " <div class=\"card-action\">\n",
              " <span class=\"card-title activator grey-text text-darken-4\">Card Title<i class=\"material-icons right\">more_vert</i></span>\n",
              " <p><a href=\"#\">This is a link</a></p>\n",
              " </div>\n",
              " <div class=\"card-reveal\">\n",
              " <span class=\"card-title grey-text text-darken-4\">Card Title<i class=\"material-icons right\">close</i></span>\n",
              " <p>Here is some more information about this product that is only revealed once clicked on.</p>\n",
              " </div>\n",
              " </div>]"
            ]
          },
          "execution_count": 8,
          "metadata": {},
          "output_type": "execute_result"
        }
      ],
      "source": [
        "cards"
      ]
    },
    {
      "cell_type": "code",
      "execution_count": 9,
      "metadata": {
        "colab": {
          "base_uri": "https://localhost:8080/"
        },
        "id": "PC9sidbrSZ-n",
        "outputId": "071abcdf-6a8e-4285-f52f-65ee55770b89"
      },
      "outputs": [
        {
          "name": "stdout",
          "output_type": "stream",
          "text": [
            "\n",
            "\n",
            "\n",
            "\n",
            "\n",
            "Card Titlemore_vert\n",
            "This is a link\n",
            "\n",
            "\n",
            "Card Titleclose\n",
            "Here is some more information about this product that is only revealed once clicked on.\n",
            "\n",
            " links This is a link\n"
          ]
        }
      ],
      "source": [
        "for card in cards:\n",
        "  card_i = card.text\n",
        "  card_a = card.a.text\n",
        "  print(f'{card_i} links {card_a}')"
      ]
    },
    {
      "cell_type": "markdown",
      "metadata": {
        "id": "FQ5XDHSRUOGw"
      },
      "source": [
        "### Scrapping a real website"
      ]
    },
    {
      "cell_type": "code",
      "execution_count": 10,
      "metadata": {
        "id": "-V7dYz4zSs4H"
      },
      "outputs": [],
      "source": [
        "import requests"
      ]
    },
    {
      "cell_type": "code",
      "execution_count": 11,
      "metadata": {
        "id": "fR1pUD3yUzh_"
      },
      "outputs": [],
      "source": [
        "html_text = requests.get(\"https://www.timesjobs.com/candidate/job-search.html?searchType=personalizedSearch&from=submit&txtKeywords=Python&txtLocation=\")"
      ]
    },
    {
      "cell_type": "code",
      "execution_count": 12,
      "metadata": {
        "colab": {
          "base_uri": "https://localhost:8080/"
        },
        "id": "bMS92uYAV8ZH",
        "outputId": "99fbb54d-ac3b-4eba-8ef0-b3658bcfb298"
      },
      "outputs": [
        {
          "name": "stdout",
          "output_type": "stream",
          "text": [
            "<Response [200]>\n"
          ]
        }
      ],
      "source": [
        "print(html_text)"
      ]
    },
    {
      "cell_type": "code",
      "execution_count": 13,
      "metadata": {
        "id": "xwKyo5iJV-oP"
      },
      "outputs": [],
      "source": [
        "html_text = requests.get(\"https://www.timesjobs.com/candidate/job-search.html?searchType=personalizedSearch&from=submit&txtKeywords=Python&txtLocation=\").text"
      ]
    },
    {
      "cell_type": "code",
      "execution_count": null,
      "metadata": {
        "id": "prpnMIoBXenv"
      },
      "outputs": [],
      "source": [
        "print(html_text)"
      ]
    },
    {
      "cell_type": "code",
      "execution_count": 15,
      "metadata": {
        "id": "2qY-rBqCaDJ_"
      },
      "outputs": [],
      "source": [
        "soup = BeautifulSoup(html_text,\"lxml\")"
      ]
    },
    {
      "cell_type": "code",
      "execution_count": 16,
      "metadata": {
        "id": "9pM_p6WiXgyH"
      },
      "outputs": [],
      "source": [
        "jobs = soup.find_all('li',class_ = \"clearfix job-bx wht-shd-bx\")"
      ]
    },
    {
      "cell_type": "code",
      "execution_count": null,
      "metadata": {
        "id": "LbU3oPAWZ7sG"
      },
      "outputs": [],
      "source": [
        "jobs\n"
      ]
    },
    {
      "cell_type": "code",
      "execution_count": 18,
      "metadata": {
        "id": "7Xvvx8P8aAEO"
      },
      "outputs": [],
      "source": [
        "company_name = []\n",
        "for i in jobs:\n",
        "  x = i.find('h3',class_ = \"joblist-comp-name\").text.replace(\" \",'')\n",
        "  company_name.append(x)"
      ]
    },
    {
      "cell_type": "code",
      "execution_count": null,
      "metadata": {
        "id": "VGdOQj3bcvYm"
      },
      "outputs": [],
      "source": [
        "company_name"
      ]
    },
    {
      "cell_type": "code",
      "execution_count": 20,
      "metadata": {
        "id": "TFtzlkGVcBgP"
      },
      "outputs": [],
      "source": [
        "company_name = [i.replace('\\r\\n','') for i in company_name]"
      ]
    },
    {
      "cell_type": "code",
      "execution_count": 21,
      "metadata": {
        "id": "LWUdWuj2cJC-"
      },
      "outputs": [],
      "source": [
        "company_name = [i.replace('\\n','') for i in company_name]"
      ]
    },
    {
      "cell_type": "code",
      "execution_count": null,
      "metadata": {
        "id": "8LZNGP5YD9gd"
      },
      "outputs": [],
      "source": [
        "company_name"
      ]
    },
    {
      "cell_type": "code",
      "execution_count": 23,
      "metadata": {
        "id": "slx8DOyFEIL9"
      },
      "outputs": [],
      "source": [
        "# skill = jobs.find('span',class_ = 'srp_skills')\n",
        "skill = []\n",
        "for i in jobs:\n",
        "  x = i.find('strong',class_ = \"blkclor\")\n",
        "  if x:\n",
        "   x = x.text.replace(\" \",'')\n",
        "  skill.append(x)"
      ]
    },
    {
      "cell_type": "code",
      "execution_count": null,
      "metadata": {
        "id": "FOu8Jf9gE1P1"
      },
      "outputs": [],
      "source": [
        "skill"
      ]
    },
    {
      "cell_type": "code",
      "execution_count": 25,
      "metadata": {
        "id": "EwTdDDARF0y-"
      },
      "outputs": [],
      "source": [
        "import pandas as pd\n",
        "df = pd.DataFrame({'company_name':company_name,'skill':skill})"
      ]
    },
    {
      "cell_type": "code",
      "execution_count": null,
      "metadata": {
        "id": "UhyMrkt5F8Q-"
      },
      "outputs": [],
      "source": [
        "df"
      ]
    },
    {
      "cell_type": "code",
      "execution_count": 27,
      "metadata": {
        "id": "Kc5XWjR-IGym"
      },
      "outputs": [],
      "source": [
        "skills = []\n",
        "for i in jobs:\n",
        "  x = i.find('span',class_ = \"srp-skills\")\n",
        "  if x:\n",
        "   x = x.text.replace(r\"\"\"<span class=\"srp-skills\"><strong class=\"blkclor\">python</strong\"\"\",'').replace('\\n','').replace('\\r        \\r     ','')\n",
        "  \n",
        "  skills.append(x)"
      ]
    },
    {
      "cell_type": "code",
      "execution_count": 28,
      "metadata": {
        "id": "V4H3jMCrPpra"
      },
      "outputs": [],
      "source": [
        "for i in skills:\n",
        "  i = i.strip()"
      ]
    },
    {
      "cell_type": "code",
      "execution_count": 29,
      "metadata": {
        "colab": {
          "base_uri": "https://localhost:8080/",
          "height": 36
        },
        "id": "aeoFyft4Puhp",
        "outputId": "3072660b-6d07-4877-bd5d-35a800151bb4"
      },
      "outputs": [
        {
          "data": {
            "application/vnd.google.colaboratory.intrinsic+json": {
              "type": "string"
            },
            "text/plain": [
              "'python  ,  django  ,  Css '"
            ]
          },
          "execution_count": 29,
          "metadata": {},
          "output_type": "execute_result"
        }
      ],
      "source": [
        "skills[1]"
      ]
    },
    {
      "cell_type": "code",
      "execution_count": 30,
      "metadata": {
        "id": "6xFxo9StR7LW"
      },
      "outputs": [],
      "source": [
        "for i in skills:\n",
        "  x = list(i.split(','))\n",
        "  i = x"
      ]
    },
    {
      "cell_type": "code",
      "execution_count": null,
      "metadata": {
        "id": "OZUJ_LzpSFzu"
      },
      "outputs": [],
      "source": [
        "len(skills)"
      ]
    },
    {
      "cell_type": "code",
      "execution_count": 32,
      "metadata": {
        "colab": {
          "base_uri": "https://localhost:8080/",
          "height": 36
        },
        "id": "Si_qaszuSTlK",
        "outputId": "86f722c3-fa7e-4c7b-a71d-0c15d279b003"
      },
      "outputs": [
        {
          "data": {
            "application/vnd.google.colaboratory.intrinsic+json": {
              "type": "string"
            },
            "text/plain": [
              "'python  ,  django  ,  Css '"
            ]
          },
          "execution_count": 32,
          "metadata": {},
          "output_type": "execute_result"
        }
      ],
      "source": [
        "skills[1]"
      ]
    },
    {
      "cell_type": "code",
      "execution_count": 33,
      "metadata": {
        "colab": {
          "base_uri": "https://localhost:8080/",
          "height": 36
        },
        "id": "mZvvcOVES051",
        "outputId": "7401a200-9718-470e-d82a-bef97a81dc1f"
      },
      "outputs": [
        {
          "data": {
            "application/vnd.google.colaboratory.intrinsic+json": {
              "type": "string"
            },
            "text/plain": [
              "'\\r      \\r          algorithms  ,  python  ,  machine learning  ,  django '"
            ]
          },
          "execution_count": 33,
          "metadata": {},
          "output_type": "execute_result"
        }
      ],
      "source": [
        "skills[3]"
      ]
    },
    {
      "cell_type": "code",
      "execution_count": 34,
      "metadata": {
        "id": "qhQ64P09S2Q1"
      },
      "outputs": [],
      "source": [
        "df ['skills'] = skills"
      ]
    },
    {
      "cell_type": "code",
      "execution_count": null,
      "metadata": {
        "id": "988GKBXXS-D-"
      },
      "outputs": [],
      "source": [
        "df"
      ]
    },
    {
      "cell_type": "code",
      "execution_count": 36,
      "metadata": {
        "id": "l-XMwaPyS-tu"
      },
      "outputs": [],
      "source": [
        "links = []\n",
        "for i in jobs:\n",
        "  x = i.header.h2.a['href']\n",
        "  links.append(x)\n"
      ]
    },
    {
      "cell_type": "code",
      "execution_count": 38,
      "metadata": {
        "id": "-tXH7LGNQ_MD"
      },
      "outputs": [],
      "source": [
        "df['links'] = links"
      ]
    },
    {
      "cell_type": "code",
      "execution_count": null,
      "metadata": {
        "id": "7zan3v__RAWL"
      },
      "outputs": [],
      "source": [
        "df"
      ]
    },
    {
      "cell_type": "code",
      "execution_count": 40,
      "metadata": {
        "colab": {
          "base_uri": "https://localhost:8080/",
          "height": 36
        },
        "id": "5BFXEpXHRF8L",
        "outputId": "2ca7087c-9c0e-4b7c-fba2-b00e56efe368"
      },
      "outputs": [
        {
          "data": {
            "application/vnd.google.colaboratory.intrinsic+json": {
              "type": "string"
            },
            "text/plain": [
              "'https://www.timesjobs.com/job-detail/python-surya-informatics-solutions-pvt-ltd-chennai-0-to-3-yrs-jobid-UVlLes58wutzpSvf__PLUS__uAgZw==&source=srp'"
            ]
          },
          "execution_count": 40,
          "metadata": {},
          "output_type": "execute_result"
        }
      ],
      "source": [
        "df['links'][0]"
      ]
    },
    {
      "cell_type": "code",
      "execution_count": 3,
      "metadata": {
        "colab": {
          "base_uri": "https://localhost:8080/"
        },
        "id": "vJaMHDv4a4iv",
        "outputId": "3180eb9a-3535-4951-f14b-e3e7f1ec4f28"
      },
      "outputs": [
        {
          "name": "stdout",
          "output_type": "stream",
          "text": [
            "Enter the skill: linux\n",
            "Filtering the skills: linux\n"
          ]
        }
      ],
      "source": [
        "unfamilar_skills = input('Enter the skill: ')\n",
        "print(f'Filtering the skills: {unfamilar_skills}')\n",
        "def find_jobs():\n",
        "  html_text = requests.get(\"https://www.timesjobs.com/candidate/job-search.html?searchType=personalizedSearch&from=submit&txtKeywords=Python&txtLocation=\")\n",
        "  soup = BeautifulSoup(html_text,\"lxml\")\n",
        "  jobs = soup.find_all('li',class_ = \"clearfix job-bx wht-shd-bx\")\n",
        "  for index, job in enumerate(jobs):\n",
        "    published_date = job.find('span',class__ = 'sim-posted').span.text\n",
        "    if 'few' in published_date:\n",
        "      company_name = job.find('h3',class_ = \"joblist-comp-name\").text.replace(\" \",'')\n",
        "      skills = job.find('span',class_ = \"srp-skills\").text.replace(\" \",'')\n",
        "      more_info = job.header.h2.a['href']\n",
        "      if unfamilar_skills not in skills:\n",
        "        with open(f'/content/{index}.txt','w') as f:\n",
        "          f.write(f\"Company_name : {company_name.strip()}\")\n",
        "          f.write(f\"Skills : {skills.strip()}\")\n",
        "          f.write(f\"More_info : {more_info}\")\n",
        "\n"
      ]
    },
    {
      "cell_type": "code",
      "execution_count": null,
      "metadata": {
        "id": "IDQKBNQOE_t9"
      },
      "outputs": [],
      "source": []
    }
  ],
  "metadata": {
    "colab": {
      "authorship_tag": "ABX9TyNDv/llB6wUWXmgY4zOs0Tz",
      "include_colab_link": true,
      "provenance": []
    },
    "kernelspec": {
      "display_name": "base",
      "language": "python",
      "name": "python3"
    },
    "language_info": {
      "name": "python",
      "version": "3.9.13 (main, Aug 25 2022, 23:51:50) [MSC v.1916 64 bit (AMD64)]"
    },
    "vscode": {
      "interpreter": {
        "hash": "603d71359ed1d9fe8529e0912945d40570428a0f34e43cffa7fe41267d475d48"
      }
    }
  },
  "nbformat": 4,
  "nbformat_minor": 0
}
